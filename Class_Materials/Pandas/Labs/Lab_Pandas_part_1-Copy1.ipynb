{
 "cells": [
  {
   "cell_type": "markdown",
   "metadata": {
    "id": "N1YkD9XI6Fg3"
   },
   "source": [
    "# Using Pandas"
   ]
  },
  {
   "cell_type": "code",
   "execution_count": 24,
   "metadata": {
    "executionInfo": {
     "elapsed": 4,
     "status": "ok",
     "timestamp": 1623140082185,
     "user": {
      "displayName": "Ignacio Soteras",
      "photoUrl": "",
      "userId": "02050793736257155229"
     },
     "user_tz": -120
    },
    "id": "jL4kjGt66Fg5"
   },
   "outputs": [],
   "source": [
    "import pandas as pd\n",
    "import numpy as np\n"
   ]
  },
  {
   "cell_type": "code",
   "execution_count": 25,
   "metadata": {},
   "outputs": [],
   "source": [
    "pd.set_option('display.max_rows', 200)\n",
    "\n",
    "## to make it possible to display multiple output inside one cell \n",
    "\n",
    "from IPython.core.interactiveshell import InteractiveShell\n",
    "InteractiveShell.ast_node_interactivity = \"all\""
   ]
  },
  {
   "cell_type": "markdown",
   "metadata": {},
   "source": [
    "<b>load the data from the vehicles.csv file into pandas data frame"
   ]
  },
  {
   "cell_type": "code",
   "execution_count": 26,
   "metadata": {
    "executionInfo": {
     "elapsed": 1346,
     "status": "ok",
     "timestamp": 1623140174431,
     "user": {
      "displayName": "Ignacio Soteras",
      "photoUrl": "",
      "userId": "02050793736257155229"
     },
     "user_tz": -120
    },
    "id": "GVHPs2Qa6Fg5"
   },
   "outputs": [
    {
     "ename": "FileNotFoundError",
     "evalue": "[Errno 2] No such file or directory: 'data/vehicles.csv'",
     "output_type": "error",
     "traceback": [
      "\u001b[0;31m---------------------------------------------------------------------------\u001b[0m",
      "\u001b[0;31mFileNotFoundError\u001b[0m                         Traceback (most recent call last)",
      "\u001b[0;32m/var/folders/58/4zdn6_kx1rz1scwtmmkg83kr0000gn/T/ipykernel_1914/2271962957.py\u001b[0m in \u001b[0;36m<module>\u001b[0;34m\u001b[0m\n\u001b[1;32m      1\u001b[0m \u001b[0;31m## Your Code here\u001b[0m\u001b[0;34m\u001b[0m\u001b[0;34m\u001b[0m\u001b[0m\n\u001b[1;32m      2\u001b[0m \u001b[0;34m\u001b[0m\u001b[0m\n\u001b[0;32m----> 3\u001b[0;31m \u001b[0mvehicles_df\u001b[0m \u001b[0;34m=\u001b[0m \u001b[0mpd\u001b[0m\u001b[0;34m.\u001b[0m\u001b[0mread_csv\u001b[0m\u001b[0;34m(\u001b[0m\u001b[0;34m'data/vehicles.csv'\u001b[0m\u001b[0;34m)\u001b[0m\u001b[0;34m\u001b[0m\u001b[0;34m\u001b[0m\u001b[0m\n\u001b[0m\u001b[1;32m      4\u001b[0m \u001b[0mvehicles_df\u001b[0m\u001b[0;34m\u001b[0m\u001b[0;34m\u001b[0m\u001b[0m\n\u001b[1;32m      5\u001b[0m \u001b[0;34m\u001b[0m\u001b[0m\n",
      "\u001b[0;32m/opt/anaconda3/lib/python3.9/site-packages/pandas/util/_decorators.py\u001b[0m in \u001b[0;36mwrapper\u001b[0;34m(*args, **kwargs)\u001b[0m\n\u001b[1;32m    309\u001b[0m                     \u001b[0mstacklevel\u001b[0m\u001b[0;34m=\u001b[0m\u001b[0mstacklevel\u001b[0m\u001b[0;34m,\u001b[0m\u001b[0;34m\u001b[0m\u001b[0;34m\u001b[0m\u001b[0m\n\u001b[1;32m    310\u001b[0m                 )\n\u001b[0;32m--> 311\u001b[0;31m             \u001b[0;32mreturn\u001b[0m \u001b[0mfunc\u001b[0m\u001b[0;34m(\u001b[0m\u001b[0;34m*\u001b[0m\u001b[0margs\u001b[0m\u001b[0;34m,\u001b[0m \u001b[0;34m**\u001b[0m\u001b[0mkwargs\u001b[0m\u001b[0;34m)\u001b[0m\u001b[0;34m\u001b[0m\u001b[0;34m\u001b[0m\u001b[0m\n\u001b[0m\u001b[1;32m    312\u001b[0m \u001b[0;34m\u001b[0m\u001b[0m\n\u001b[1;32m    313\u001b[0m         \u001b[0;32mreturn\u001b[0m \u001b[0mwrapper\u001b[0m\u001b[0;34m\u001b[0m\u001b[0;34m\u001b[0m\u001b[0m\n",
      "\u001b[0;32m/opt/anaconda3/lib/python3.9/site-packages/pandas/io/parsers/readers.py\u001b[0m in \u001b[0;36mread_csv\u001b[0;34m(filepath_or_buffer, sep, delimiter, header, names, index_col, usecols, squeeze, prefix, mangle_dupe_cols, dtype, engine, converters, true_values, false_values, skipinitialspace, skiprows, skipfooter, nrows, na_values, keep_default_na, na_filter, verbose, skip_blank_lines, parse_dates, infer_datetime_format, keep_date_col, date_parser, dayfirst, cache_dates, iterator, chunksize, compression, thousands, decimal, lineterminator, quotechar, quoting, doublequote, escapechar, comment, encoding, encoding_errors, dialect, error_bad_lines, warn_bad_lines, on_bad_lines, delim_whitespace, low_memory, memory_map, float_precision, storage_options)\u001b[0m\n\u001b[1;32m    584\u001b[0m     \u001b[0mkwds\u001b[0m\u001b[0;34m.\u001b[0m\u001b[0mupdate\u001b[0m\u001b[0;34m(\u001b[0m\u001b[0mkwds_defaults\u001b[0m\u001b[0;34m)\u001b[0m\u001b[0;34m\u001b[0m\u001b[0;34m\u001b[0m\u001b[0m\n\u001b[1;32m    585\u001b[0m \u001b[0;34m\u001b[0m\u001b[0m\n\u001b[0;32m--> 586\u001b[0;31m     \u001b[0;32mreturn\u001b[0m \u001b[0m_read\u001b[0m\u001b[0;34m(\u001b[0m\u001b[0mfilepath_or_buffer\u001b[0m\u001b[0;34m,\u001b[0m \u001b[0mkwds\u001b[0m\u001b[0;34m)\u001b[0m\u001b[0;34m\u001b[0m\u001b[0;34m\u001b[0m\u001b[0m\n\u001b[0m\u001b[1;32m    587\u001b[0m \u001b[0;34m\u001b[0m\u001b[0m\n\u001b[1;32m    588\u001b[0m \u001b[0;34m\u001b[0m\u001b[0m\n",
      "\u001b[0;32m/opt/anaconda3/lib/python3.9/site-packages/pandas/io/parsers/readers.py\u001b[0m in \u001b[0;36m_read\u001b[0;34m(filepath_or_buffer, kwds)\u001b[0m\n\u001b[1;32m    480\u001b[0m \u001b[0;34m\u001b[0m\u001b[0m\n\u001b[1;32m    481\u001b[0m     \u001b[0;31m# Create the parser.\u001b[0m\u001b[0;34m\u001b[0m\u001b[0;34m\u001b[0m\u001b[0m\n\u001b[0;32m--> 482\u001b[0;31m     \u001b[0mparser\u001b[0m \u001b[0;34m=\u001b[0m \u001b[0mTextFileReader\u001b[0m\u001b[0;34m(\u001b[0m\u001b[0mfilepath_or_buffer\u001b[0m\u001b[0;34m,\u001b[0m \u001b[0;34m**\u001b[0m\u001b[0mkwds\u001b[0m\u001b[0;34m)\u001b[0m\u001b[0;34m\u001b[0m\u001b[0;34m\u001b[0m\u001b[0m\n\u001b[0m\u001b[1;32m    483\u001b[0m \u001b[0;34m\u001b[0m\u001b[0m\n\u001b[1;32m    484\u001b[0m     \u001b[0;32mif\u001b[0m \u001b[0mchunksize\u001b[0m \u001b[0;32mor\u001b[0m \u001b[0miterator\u001b[0m\u001b[0;34m:\u001b[0m\u001b[0;34m\u001b[0m\u001b[0;34m\u001b[0m\u001b[0m\n",
      "\u001b[0;32m/opt/anaconda3/lib/python3.9/site-packages/pandas/io/parsers/readers.py\u001b[0m in \u001b[0;36m__init__\u001b[0;34m(self, f, engine, **kwds)\u001b[0m\n\u001b[1;32m    809\u001b[0m             \u001b[0mself\u001b[0m\u001b[0;34m.\u001b[0m\u001b[0moptions\u001b[0m\u001b[0;34m[\u001b[0m\u001b[0;34m\"has_index_names\"\u001b[0m\u001b[0;34m]\u001b[0m \u001b[0;34m=\u001b[0m \u001b[0mkwds\u001b[0m\u001b[0;34m[\u001b[0m\u001b[0;34m\"has_index_names\"\u001b[0m\u001b[0;34m]\u001b[0m\u001b[0;34m\u001b[0m\u001b[0;34m\u001b[0m\u001b[0m\n\u001b[1;32m    810\u001b[0m \u001b[0;34m\u001b[0m\u001b[0m\n\u001b[0;32m--> 811\u001b[0;31m         \u001b[0mself\u001b[0m\u001b[0;34m.\u001b[0m\u001b[0m_engine\u001b[0m \u001b[0;34m=\u001b[0m \u001b[0mself\u001b[0m\u001b[0;34m.\u001b[0m\u001b[0m_make_engine\u001b[0m\u001b[0;34m(\u001b[0m\u001b[0mself\u001b[0m\u001b[0;34m.\u001b[0m\u001b[0mengine\u001b[0m\u001b[0;34m)\u001b[0m\u001b[0;34m\u001b[0m\u001b[0;34m\u001b[0m\u001b[0m\n\u001b[0m\u001b[1;32m    812\u001b[0m \u001b[0;34m\u001b[0m\u001b[0m\n\u001b[1;32m    813\u001b[0m     \u001b[0;32mdef\u001b[0m \u001b[0mclose\u001b[0m\u001b[0;34m(\u001b[0m\u001b[0mself\u001b[0m\u001b[0;34m)\u001b[0m\u001b[0;34m:\u001b[0m\u001b[0;34m\u001b[0m\u001b[0;34m\u001b[0m\u001b[0m\n",
      "\u001b[0;32m/opt/anaconda3/lib/python3.9/site-packages/pandas/io/parsers/readers.py\u001b[0m in \u001b[0;36m_make_engine\u001b[0;34m(self, engine)\u001b[0m\n\u001b[1;32m   1038\u001b[0m             )\n\u001b[1;32m   1039\u001b[0m         \u001b[0;31m# error: Too many arguments for \"ParserBase\"\u001b[0m\u001b[0;34m\u001b[0m\u001b[0;34m\u001b[0m\u001b[0m\n\u001b[0;32m-> 1040\u001b[0;31m         \u001b[0;32mreturn\u001b[0m \u001b[0mmapping\u001b[0m\u001b[0;34m[\u001b[0m\u001b[0mengine\u001b[0m\u001b[0;34m]\u001b[0m\u001b[0;34m(\u001b[0m\u001b[0mself\u001b[0m\u001b[0;34m.\u001b[0m\u001b[0mf\u001b[0m\u001b[0;34m,\u001b[0m \u001b[0;34m**\u001b[0m\u001b[0mself\u001b[0m\u001b[0;34m.\u001b[0m\u001b[0moptions\u001b[0m\u001b[0;34m)\u001b[0m  \u001b[0;31m# type: ignore[call-arg]\u001b[0m\u001b[0;34m\u001b[0m\u001b[0;34m\u001b[0m\u001b[0m\n\u001b[0m\u001b[1;32m   1041\u001b[0m \u001b[0;34m\u001b[0m\u001b[0m\n\u001b[1;32m   1042\u001b[0m     \u001b[0;32mdef\u001b[0m \u001b[0m_failover_to_python\u001b[0m\u001b[0;34m(\u001b[0m\u001b[0mself\u001b[0m\u001b[0;34m)\u001b[0m\u001b[0;34m:\u001b[0m\u001b[0;34m\u001b[0m\u001b[0;34m\u001b[0m\u001b[0m\n",
      "\u001b[0;32m/opt/anaconda3/lib/python3.9/site-packages/pandas/io/parsers/c_parser_wrapper.py\u001b[0m in \u001b[0;36m__init__\u001b[0;34m(self, src, **kwds)\u001b[0m\n\u001b[1;32m     49\u001b[0m \u001b[0;34m\u001b[0m\u001b[0m\n\u001b[1;32m     50\u001b[0m         \u001b[0;31m# open handles\u001b[0m\u001b[0;34m\u001b[0m\u001b[0;34m\u001b[0m\u001b[0m\n\u001b[0;32m---> 51\u001b[0;31m         \u001b[0mself\u001b[0m\u001b[0;34m.\u001b[0m\u001b[0m_open_handles\u001b[0m\u001b[0;34m(\u001b[0m\u001b[0msrc\u001b[0m\u001b[0;34m,\u001b[0m \u001b[0mkwds\u001b[0m\u001b[0;34m)\u001b[0m\u001b[0;34m\u001b[0m\u001b[0;34m\u001b[0m\u001b[0m\n\u001b[0m\u001b[1;32m     52\u001b[0m         \u001b[0;32massert\u001b[0m \u001b[0mself\u001b[0m\u001b[0;34m.\u001b[0m\u001b[0mhandles\u001b[0m \u001b[0;32mis\u001b[0m \u001b[0;32mnot\u001b[0m \u001b[0;32mNone\u001b[0m\u001b[0;34m\u001b[0m\u001b[0;34m\u001b[0m\u001b[0m\n\u001b[1;32m     53\u001b[0m \u001b[0;34m\u001b[0m\u001b[0m\n",
      "\u001b[0;32m/opt/anaconda3/lib/python3.9/site-packages/pandas/io/parsers/base_parser.py\u001b[0m in \u001b[0;36m_open_handles\u001b[0;34m(self, src, kwds)\u001b[0m\n\u001b[1;32m    220\u001b[0m         \u001b[0mLet\u001b[0m \u001b[0mthe\u001b[0m \u001b[0mreaders\u001b[0m \u001b[0mopen\u001b[0m \u001b[0mIOHandles\u001b[0m \u001b[0mafter\u001b[0m \u001b[0mthey\u001b[0m \u001b[0mare\u001b[0m \u001b[0mdone\u001b[0m \u001b[0;32mwith\u001b[0m \u001b[0mtheir\u001b[0m \u001b[0mpotential\u001b[0m \u001b[0mraises\u001b[0m\u001b[0;34m.\u001b[0m\u001b[0;34m\u001b[0m\u001b[0;34m\u001b[0m\u001b[0m\n\u001b[1;32m    221\u001b[0m         \"\"\"\n\u001b[0;32m--> 222\u001b[0;31m         self.handles = get_handle(\n\u001b[0m\u001b[1;32m    223\u001b[0m             \u001b[0msrc\u001b[0m\u001b[0;34m,\u001b[0m\u001b[0;34m\u001b[0m\u001b[0;34m\u001b[0m\u001b[0m\n\u001b[1;32m    224\u001b[0m             \u001b[0;34m\"r\"\u001b[0m\u001b[0;34m,\u001b[0m\u001b[0;34m\u001b[0m\u001b[0;34m\u001b[0m\u001b[0m\n",
      "\u001b[0;32m/opt/anaconda3/lib/python3.9/site-packages/pandas/io/common.py\u001b[0m in \u001b[0;36mget_handle\u001b[0;34m(path_or_buf, mode, encoding, compression, memory_map, is_text, errors, storage_options)\u001b[0m\n\u001b[1;32m    700\u001b[0m         \u001b[0;32mif\u001b[0m \u001b[0mioargs\u001b[0m\u001b[0;34m.\u001b[0m\u001b[0mencoding\u001b[0m \u001b[0;32mand\u001b[0m \u001b[0;34m\"b\"\u001b[0m \u001b[0;32mnot\u001b[0m \u001b[0;32min\u001b[0m \u001b[0mioargs\u001b[0m\u001b[0;34m.\u001b[0m\u001b[0mmode\u001b[0m\u001b[0;34m:\u001b[0m\u001b[0;34m\u001b[0m\u001b[0;34m\u001b[0m\u001b[0m\n\u001b[1;32m    701\u001b[0m             \u001b[0;31m# Encoding\u001b[0m\u001b[0;34m\u001b[0m\u001b[0;34m\u001b[0m\u001b[0m\n\u001b[0;32m--> 702\u001b[0;31m             handle = open(\n\u001b[0m\u001b[1;32m    703\u001b[0m                 \u001b[0mhandle\u001b[0m\u001b[0;34m,\u001b[0m\u001b[0;34m\u001b[0m\u001b[0;34m\u001b[0m\u001b[0m\n\u001b[1;32m    704\u001b[0m                 \u001b[0mioargs\u001b[0m\u001b[0;34m.\u001b[0m\u001b[0mmode\u001b[0m\u001b[0;34m,\u001b[0m\u001b[0;34m\u001b[0m\u001b[0;34m\u001b[0m\u001b[0m\n",
      "\u001b[0;31mFileNotFoundError\u001b[0m: [Errno 2] No such file or directory: 'data/vehicles.csv'"
     ]
    }
   ],
   "source": [
    "## Your Code here\n",
    "\n",
    "vehicles_df = pd.read_csv('data/vehicles.csv')\n",
    "vehicles_df\n",
    "\n"
   ]
  },
  {
   "cell_type": "markdown",
   "metadata": {
    "id": "Yk72_YtZ6Fg5"
   },
   "source": [
    "First exploration of the dataset:\n",
    "\n",
    "- How many observations does it have?\n",
    "- Look at all the columns: do you understand what they mean?\n",
    "- Look at the raw data: do you see anything weird?\n",
    "- Look at the data types: are they the expected ones for the information the column contains?"
   ]
  },
  {
   "cell_type": "code",
   "execution_count": null,
   "metadata": {
    "colab": {
     "base_uri": "https://localhost:8080/"
    },
    "executionInfo": {
     "elapsed": 226,
     "status": "ok",
     "timestamp": 1623140221705,
     "user": {
      "displayName": "Ignacio Soteras",
      "photoUrl": "",
      "userId": "02050793736257155229"
     },
     "user_tz": -120
    },
    "id": "-FT85oMVPxlW",
    "outputId": "c9f5d2c8-d3c2-4acc-edec-914a92c7f60b"
   },
   "outputs": [],
   "source": [
    "# How many observations does it have?\n",
    "vehicles_df.info()\n"
   ]
  },
  {
   "cell_type": "code",
   "execution_count": null,
   "metadata": {},
   "outputs": [],
   "source": [
    "vehicles_df.count()\n",
    "\n",
    "vehicles_df.describe()\n"
   ]
  },
  {
   "cell_type": "markdown",
   "metadata": {},
   "source": [
    "answers:\n",
    "- Look at all the columns: do you understand what they mean? yes.\n",
    "- Look at the raw data: do you see anything weird? ...\n",
    "- Look at the data types: are they the expected ones for the information the column contains? yes."
   ]
  },
  {
   "cell_type": "markdown",
   "metadata": {
    "id": "tqcFYXUk6Fg6",
    "tags": []
   },
   "source": [
    "### Cleaning and wrangling data\n",
    "\n",
    "- Some car brand names refer to the same brand. Replace all brand names that contain the word \"Dutton\" for simply \"Dutton\". If you find similar examples, clean their names too. Use `loc` with boolean indexing.\n",
    "\n",
    "- Convert CO2 Emissions from Grams/Mile to Grams/Km\n",
    "\n",
    "- Create a binary column that solely indicates if the transmission of a car is automatic or manual. Use `pandas.Series.str.startswith` and .\n",
    "\n",
    "- convert MPG columns to km_per_liter"
   ]
  },
  {
   "cell_type": "code",
   "execution_count": null,
   "metadata": {},
   "outputs": [],
   "source": []
  },
  {
   "cell_type": "code",
   "execution_count": null,
   "metadata": {},
   "outputs": [],
   "source": [
    "# Some car brand names refer to the same brand. Replace all brand names that contain the word \"Dutton\" for simply \"Dutton\". If you find similar examples, clean their names too. Use loc with boolean indexing.\n",
    "\n",
    "vehicles_df.loc[vehicles_df['Make'].str.contains(\"Dutton\")]\n"
   ]
  },
  {
   "cell_type": "code",
   "execution_count": null,
   "metadata": {},
   "outputs": [],
   "source": []
  },
  {
   "cell_type": "code",
   "execution_count": null,
   "metadata": {},
   "outputs": [],
   "source": [
    "#vehicles_df.loc[vehicles_df['Make'].str.contains(\"Dutton\")] = \"Dutton\"\n",
    "\n",
    "#vehicles_df.loc[vehicles_df['Make'].str.contains(\"Dutton\")]\n",
    "\n",
    "\n",
    "\n",
    "\n",
    "#NOTE: I didn't find the way to change only the make names here and to set inplace.      !!!!!!!!!!!!"
   ]
  },
  {
   "cell_type": "code",
   "execution_count": null,
   "metadata": {},
   "outputs": [],
   "source": [
    "#vehicles_df.replace({'Make':{11011 : \"Dutton\", 30164 : \"Dutton\", 31755 : \"Dutton\"}}, inplace=True)\n",
    "\n",
    "#vehicles_df.loc[vehicles_df['Make'].str.contains(\"Dutton\")]\n",
    "\n",
    "#NOTE: I didn't find the way to change only the make names here            !!!!!!!!!!!!"
   ]
  },
  {
   "cell_type": "code",
   "execution_count": null,
   "metadata": {},
   "outputs": [],
   "source": [
    "vehicles_df.loc[vehicles_df['Make'].str.contains(\"Dutton\")]\n",
    "vehicles_df.loc[11012, 'Make'] = \"Dutton\"\n",
    "vehicles_df.loc[30164, 'Make'] = \"Dutton\"\n",
    "vehicles_df.loc[31754, 'Make'] = \"Dutton\"\n",
    "\n",
    "vehicles_df.loc[vehicles_df['Make'].str.contains(\"Dutton\")]"
   ]
  },
  {
   "cell_type": "code",
   "execution_count": null,
   "metadata": {},
   "outputs": [],
   "source": [
    "#Convert CO2 Emissions from Grams/Mile to Grams/Km\n",
    "\n",
    "vehicles_df.rename(columns = {\"CO2 Emission Grams/Mile\" : \"CO2 Emission Grams/Km\"}, inplace = True)\n",
    "\n",
    "vehicles_df"
   ]
  },
  {
   "cell_type": "markdown",
   "metadata": {},
   "source": [
    "\n",
    "Converting Grams/Mile to Grams/Km\n",
    "\n",
    "1 Mile = 1.60934 Km\n",
    "\n",
    "Grams/Mile * Mile/Km -> Grams/Mile * 1 Mile/1.60934Km\n",
    "\n",
    "$$ \\frac{Grams}{Mile} * \\frac{Mile}{Km} $$\n",
    "\n",
    "$$ \\frac{Grams}{Mile} * \\frac{1 Mile}{1.60934Km}  $$"
   ]
  },
  {
   "cell_type": "code",
   "execution_count": null,
   "metadata": {},
   "outputs": [],
   "source": [
    "vehicles_df[\"CO2 Emission Grams/Km\"]=vehicles_df[\"CO2 Emission Grams/Km\"] * (1/1.60934)\n",
    "vehicles_df"
   ]
  },
  {
   "cell_type": "code",
   "execution_count": null,
   "metadata": {},
   "outputs": [],
   "source": []
  },
  {
   "cell_type": "code",
   "execution_count": null,
   "metadata": {},
   "outputs": [],
   "source": [
    "#Create a binary column that solely indicates if the transmission of a car is automatic or manual.\n",
    "\n",
    "transmission_df = vehicles_df[[\"Model\",\"Transmission\"]]\n",
    "transmission_df\n"
   ]
  },
  {
   "cell_type": "code",
   "execution_count": null,
   "metadata": {},
   "outputs": [],
   "source": [
    "#Use pandas.Series.str.starts with and \n",
    "\n",
    "\n",
    "Transmission = {\"Model\": pd.Series(vehicles_df[\"Model\"]),\n",
    "        \"Transmission\": pd.Series(vehicles_df[\"Transmission\"])}\n",
    "\n",
    "pd.DataFrame(Transmission)\n",
    "\n"
   ]
  },
  {
   "cell_type": "markdown",
   "metadata": {
    "id": "R-jWHEisa3nF"
   },
   "source": [
    "\n",
    "\n",
    "MPG = Miles/Gallon -> Km/Liter = 0.42514\n",
    "\n",
    "1 Mile = 1.60934 Km\n",
    "\n",
    "1 Gallon = 3.78541 Liters\n",
    "\n",
    "$$ \\frac{Miles}{Gallon} -> \\frac{Miles}{Gallon} * \\frac{Km}{Miles} * \\frac{Gallon}{Liters}$$\n",
    "\n",
    "$$ \\frac{Miles}{Gallon} -> \\frac{Miles}{Gallon} * \\frac{1.60934Km}{ 1Miles} * \\frac{1 Gallon}{3.78541 Liters}$$\n",
    "\n",
    "* ( 1.60934 / 3.78541 )\n"
   ]
  },
  {
   "cell_type": "code",
   "execution_count": null,
   "metadata": {},
   "outputs": [],
   "source": [
    "#convert MPG columns to km_per_liter in panda series\n",
    "\n",
    "MPG_conv = {\"City MPG\": pd.Series(vehicles_df[\"City MPG\"]) * 0.42514,\n",
    "                \"Highway MPG\": pd.Series(vehicles_df[\"Highway MPG\"]) * 0.42514,\n",
    "                \"Combined MPG\": pd.Series(vehicles_df[\"Combined MPG\"]) * 0.42514}\n",
    "\n",
    "pd.DataFrame(MPG_conv)"
   ]
  },
  {
   "cell_type": "code",
   "execution_count": null,
   "metadata": {},
   "outputs": [],
   "source": [
    "vehicles_df.rename(columns = {\"City MPG\" : \"City KM/L\", \"Highway MPG\" : \"Highway KM/L\", \"Combined MPG\" : \"Combined KM/L\"}, inplace = True)\n",
    "\n",
    "vehicles_df"
   ]
  },
  {
   "cell_type": "code",
   "execution_count": null,
   "metadata": {},
   "outputs": [],
   "source": [
    "#merge data\n",
    "\n",
    "New_datafile_df = {\"Make\": pd.Series(vehicles_df[\"Make\"]),\n",
    "                \"Model\": pd.Series(vehicles_df[\"Model\"]),\n",
    "                \"Year\": pd.Series(vehicles_df[\"Year\"]),\n",
    "                \"Engine Displacement\": pd.Series(vehicles_df[\"Engine Displacement\"]),\n",
    "                \"Cylinders\": pd.Series(vehicles_df[\"Cylinders\"]),\n",
    "                \"Transmission\": pd.Series(vehicles_df[\"Transmission\"]),\n",
    "                \"Drivetrain\": pd.Series(vehicles_df[\"Drivetrain\"]),\n",
    "                \"Vehicle Class\": pd.Series(vehicles_df[\"Vehicle Class\"]),\n",
    "                \"Fuel Type\": pd.Series(vehicles_df[\"Fuel Type\"]),\n",
    "                \"Fuel Barrels/Year\": pd.Series(vehicles_df[\"Fuel Barrels/Year\"]),\n",
    "                \"City KM/L\": pd.Series(vehicles_df[\"City KM/L\"]) * 0.42514,\n",
    "                \"Highway KM/L\": pd.Series(vehicles_df[\"Highway KM/L\"]) * 0.42514,\n",
    "                \"Combined KM/L\": pd.Series(vehicles_df[\"Combined KM/L\"]) * 0.42514,\n",
    "                \"CO2 Emission Grams/Km\": pd.Series(vehicles_df[\"CO2 Emission Grams/Km\"]),\n",
    "                \"Fuel Cost/Year\": pd.Series(vehicles_df[\"Fuel Cost/Year\"])}\n",
    "\n",
    "\n",
    "pd.DataFrame(New_datafile_df)\n",
    "\n",
    "\n"
   ]
  },
  {
   "cell_type": "markdown",
   "metadata": {
    "id": "SRZZJAPQ6Fg6"
   },
   "source": [
    "### Gathering insights:\n",
    "\n",
    "- How many car makers are there? How many models? Which car maker has the most cars in the dataset?\n",
    "\n",
    "- When were these cars made? How big is the engine of these cars?\n",
    "\n",
    "- What's the frequency of different transmissions, drivetrains and fuel types?\n",
    "\n",
    "- What's the car that consumes the least/most fuel?"
   ]
  },
  {
   "cell_type": "code",
   "execution_count": null,
   "metadata": {
    "colab": {
     "base_uri": "https://localhost:8080/"
    },
    "executionInfo": {
     "elapsed": 346,
     "status": "ok",
     "timestamp": 1623143226628,
     "user": {
      "displayName": "Ignacio Soteras",
      "photoUrl": "",
      "userId": "02050793736257155229"
     },
     "user_tz": -120
    },
    "id": "LS-EOV3f6Fg7",
    "outputId": "7244f51d-279e-4a71-ba35-63d2969f5a74"
   },
   "outputs": [],
   "source": [
    "# How many car makers are there? \n",
    "\n",
    "New_datafile_df['Make'].value_counts()\n",
    "print(len(New_datafile_df['Make'].value_counts()))\n",
    "\n"
   ]
  },
  {
   "cell_type": "code",
   "execution_count": 22,
   "metadata": {},
   "outputs": [
    {
     "ename": "NameError",
     "evalue": "name 'New_datafile_df' is not defined",
     "output_type": "error",
     "traceback": [
      "\u001b[0;31m---------------------------------------------------------------------------\u001b[0m",
      "\u001b[0;31mNameError\u001b[0m                                 Traceback (most recent call last)",
      "\u001b[0;32m/var/folders/58/4zdn6_kx1rz1scwtmmkg83kr0000gn/T/ipykernel_1914/189595011.py\u001b[0m in \u001b[0;36m<module>\u001b[0;34m\u001b[0m\n\u001b[1;32m      1\u001b[0m \u001b[0;31m# # How many models?\u001b[0m\u001b[0;34m\u001b[0m\u001b[0;34m\u001b[0m\u001b[0m\n\u001b[1;32m      2\u001b[0m \u001b[0;34m\u001b[0m\u001b[0m\n\u001b[0;32m----> 3\u001b[0;31m \u001b[0mNew_datafile_df\u001b[0m\u001b[0;34m[\u001b[0m\u001b[0;34m'Model'\u001b[0m\u001b[0;34m]\u001b[0m\u001b[0;34m.\u001b[0m\u001b[0mvalue_counts\u001b[0m\u001b[0;34m(\u001b[0m\u001b[0;36m0\u001b[0m\u001b[0;34m)\u001b[0m\u001b[0;34m\u001b[0m\u001b[0;34m\u001b[0m\u001b[0m\n\u001b[0m\u001b[1;32m      4\u001b[0m \u001b[0;34m\u001b[0m\u001b[0m\n\u001b[1;32m      5\u001b[0m \u001b[0mprint\u001b[0m\u001b[0;34m(\u001b[0m\u001b[0mlen\u001b[0m\u001b[0;34m(\u001b[0m\u001b[0mNew_datafile_df\u001b[0m\u001b[0;34m[\u001b[0m\u001b[0;34m'Model'\u001b[0m\u001b[0;34m]\u001b[0m\u001b[0;34m.\u001b[0m\u001b[0mvalue_counts\u001b[0m\u001b[0;34m(\u001b[0m\u001b[0;34m)\u001b[0m\u001b[0;34m)\u001b[0m\u001b[0;34m)\u001b[0m\u001b[0;34m\u001b[0m\u001b[0;34m\u001b[0m\u001b[0m\n",
      "\u001b[0;31mNameError\u001b[0m: name 'New_datafile_df' is not defined"
     ]
    }
   ],
   "source": [
    "# # How many models? \n",
    "\n",
    "New_datafile_df['Model'].value_counts(0)\n",
    "\n",
    "print(len(New_datafile_df['Model'].value_counts()))\n",
    "\n"
   ]
  },
  {
   "cell_type": "code",
   "execution_count": 23,
   "metadata": {},
   "outputs": [
    {
     "ename": "NameError",
     "evalue": "name 'New_datafile_df' is not defined",
     "output_type": "error",
     "traceback": [
      "\u001b[0;31m---------------------------------------------------------------------------\u001b[0m",
      "\u001b[0;31mNameError\u001b[0m                                 Traceback (most recent call last)",
      "\u001b[0;32m/var/folders/58/4zdn6_kx1rz1scwtmmkg83kr0000gn/T/ipykernel_1914/709593795.py\u001b[0m in \u001b[0;36m<module>\u001b[0;34m\u001b[0m\n\u001b[1;32m      1\u001b[0m \u001b[0;31m# Which car maker has the most cars in the dataset?\u001b[0m\u001b[0;34m\u001b[0m\u001b[0;34m\u001b[0m\u001b[0m\n\u001b[1;32m      2\u001b[0m \u001b[0;34m\u001b[0m\u001b[0m\n\u001b[0;32m----> 3\u001b[0;31m \u001b[0mmostcar\u001b[0m \u001b[0;34m=\u001b[0m \u001b[0mpd\u001b[0m\u001b[0;34m.\u001b[0m\u001b[0mDataFrame\u001b[0m\u001b[0;34m(\u001b[0m\u001b[0mNew_datafile_df\u001b[0m\u001b[0;34m[\u001b[0m\u001b[0;34m'Make'\u001b[0m\u001b[0;34m]\u001b[0m\u001b[0;34m.\u001b[0m\u001b[0mvalue_counts\u001b[0m\u001b[0;34m(\u001b[0m\u001b[0;36m0\u001b[0m\u001b[0;34m)\u001b[0m\u001b[0;34m)\u001b[0m\u001b[0;34m\u001b[0m\u001b[0;34m\u001b[0m\u001b[0m\n\u001b[0m\u001b[1;32m      4\u001b[0m \u001b[0;34m\u001b[0m\u001b[0m\n\u001b[1;32m      5\u001b[0m \u001b[0mprint\u001b[0m\u001b[0;34m(\u001b[0m\u001b[0mmostcar\u001b[0m\u001b[0;34m)\u001b[0m\u001b[0;34m\u001b[0m\u001b[0;34m\u001b[0m\u001b[0m\n",
      "\u001b[0;31mNameError\u001b[0m: name 'New_datafile_df' is not defined"
     ]
    }
   ],
   "source": [
    "# Which car maker has the most cars in the dataset?\n",
    "\n",
    "mostcar = pd.DataFrame(New_datafile_df['Make'].value_counts(0))\n",
    "\n",
    "print(mostcar)"
   ]
  },
  {
   "cell_type": "code",
   "execution_count": null,
   "metadata": {},
   "outputs": [],
   "source": []
  },
  {
   "cell_type": "code",
   "execution_count": null,
   "metadata": {},
   "outputs": [],
   "source": []
  },
  {
   "cell_type": "code",
   "execution_count": null,
   "metadata": {},
   "outputs": [],
   "source": [
    "\n",
    "# I was trying to create a data frame with the models and makers in ascending order of car numbers but I couln'd. make it.\n",
    "\n",
    "# attemp 1:\n",
    "\n",
    "mostcar2 = { \"Model num\": New_datafile_df['Model'].value_counts(),\n",
    "            }\n",
    "\n",
    "pd.DataFrame(mostcar2)"
   ]
  },
  {
   "cell_type": "code",
   "execution_count": 13,
   "metadata": {},
   "outputs": [
    {
     "ename": "NameError",
     "evalue": "name 'New_datafile_df' is not defined",
     "output_type": "error",
     "traceback": [
      "\u001b[0;31m---------------------------------------------------------------------------\u001b[0m",
      "\u001b[0;31mNameError\u001b[0m                                 Traceback (most recent call last)",
      "\u001b[0;32m/var/folders/58/4zdn6_kx1rz1scwtmmkg83kr0000gn/T/ipykernel_1914/3225956900.py\u001b[0m in \u001b[0;36m<module>\u001b[0;34m\u001b[0m\n\u001b[0;32m----> 1\u001b[0;31m \u001b[0mmostcar2\u001b[0m\u001b[0;34m[\u001b[0m\u001b[0;34m\"Make\"\u001b[0m\u001b[0;34m]\u001b[0m \u001b[0;34m=\u001b[0m \u001b[0mNew_datafile_df\u001b[0m\u001b[0;34m[\u001b[0m\u001b[0;34m'Make'\u001b[0m\u001b[0;34m]\u001b[0m\u001b[0;34m\u001b[0m\u001b[0;34m\u001b[0m\u001b[0m\n\u001b[0m\u001b[1;32m      2\u001b[0m \u001b[0mmostcar2\u001b[0m\u001b[0;34m\u001b[0m\u001b[0;34m\u001b[0m\u001b[0m\n",
      "\u001b[0;31mNameError\u001b[0m: name 'New_datafile_df' is not defined"
     ]
    }
   ],
   "source": [
    "mostcar2[\"Make\"] = New_datafile_df['Make']\n",
    "mostcar2"
   ]
  },
  {
   "cell_type": "code",
   "execution_count": 698,
   "metadata": {},
   "outputs": [
    {
     "data": {
      "text/html": [
       "<div>\n",
       "<style scoped>\n",
       "    .dataframe tbody tr th:only-of-type {\n",
       "        vertical-align: middle;\n",
       "    }\n",
       "\n",
       "    .dataframe tbody tr th {\n",
       "        vertical-align: top;\n",
       "    }\n",
       "\n",
       "    .dataframe thead th {\n",
       "        text-align: right;\n",
       "    }\n",
       "</style>\n",
       "<table border=\"1\" class=\"dataframe\">\n",
       "  <thead>\n",
       "    <tr style=\"text-align: right;\">\n",
       "      <th></th>\n",
       "      <th>Model</th>\n",
       "      <th>Make</th>\n",
       "    </tr>\n",
       "  </thead>\n",
       "  <tbody>\n",
       "    <tr>\n",
       "      <th>F150 Pickup 2WD</th>\n",
       "      <td>197</td>\n",
       "      <td>NaN</td>\n",
       "    </tr>\n",
       "    <tr>\n",
       "      <th>F150 Pickup 4WD</th>\n",
       "      <td>179</td>\n",
       "      <td>NaN</td>\n",
       "    </tr>\n",
       "    <tr>\n",
       "      <th>Truck 2WD</th>\n",
       "      <td>173</td>\n",
       "      <td>NaN</td>\n",
       "    </tr>\n",
       "    <tr>\n",
       "      <th>Mustang</th>\n",
       "      <td>170</td>\n",
       "      <td>NaN</td>\n",
       "    </tr>\n",
       "    <tr>\n",
       "      <th>Jetta</th>\n",
       "      <td>169</td>\n",
       "      <td>NaN</td>\n",
       "    </tr>\n",
       "    <tr>\n",
       "      <th>...</th>\n",
       "      <td>...</td>\n",
       "      <td>...</td>\n",
       "    </tr>\n",
       "    <tr>\n",
       "      <th>C300 Convertible</th>\n",
       "      <td>1</td>\n",
       "      <td>NaN</td>\n",
       "    </tr>\n",
       "    <tr>\n",
       "      <th>C300 Coupe</th>\n",
       "      <td>1</td>\n",
       "      <td>NaN</td>\n",
       "    </tr>\n",
       "    <tr>\n",
       "      <th>C300 FFV</th>\n",
       "      <td>1</td>\n",
       "      <td>NaN</td>\n",
       "    </tr>\n",
       "    <tr>\n",
       "      <th>C320 4matic Sedan</th>\n",
       "      <td>1</td>\n",
       "      <td>NaN</td>\n",
       "    </tr>\n",
       "    <tr>\n",
       "      <th>DJ Po Vehicle 2WD</th>\n",
       "      <td>1</td>\n",
       "      <td>NaN</td>\n",
       "    </tr>\n",
       "  </tbody>\n",
       "</table>\n",
       "<p>3608 rows × 2 columns</p>\n",
       "</div>"
      ],
      "text/plain": [
       "                   Model Make\n",
       "F150 Pickup 2WD      197  NaN\n",
       "F150 Pickup 4WD      179  NaN\n",
       "Truck 2WD            173  NaN\n",
       "Mustang              170  NaN\n",
       "Jetta                169  NaN\n",
       "...                  ...  ...\n",
       "C300 Convertible       1  NaN\n",
       "C300 Coupe             1  NaN\n",
       "C300 FFV               1  NaN\n",
       "C320 4matic Sedan      1  NaN\n",
       "DJ Po Vehicle 2WD      1  NaN\n",
       "\n",
       "[3608 rows x 2 columns]"
      ]
     },
     "execution_count": 698,
     "metadata": {},
     "output_type": "execute_result"
    }
   ],
   "source": [
    "# attemp 2:\n",
    "\n",
    "mostcar_df = pd.DataFrame(New_datafile_df['Model'].value_counts())\n",
    "mostcar_df[\"Make\"] = pd.Series(New_datafile_df[\"Make\"])\n",
    "mostcar_df"
   ]
  },
  {
   "cell_type": "code",
   "execution_count": 739,
   "metadata": {},
   "outputs": [
    {
     "ename": "NameError",
     "evalue": "name 'mostcar2_df' is not defined",
     "output_type": "error",
     "traceback": [
      "\u001b[0;31m---------------------------------------------------------------------------\u001b[0m",
      "\u001b[0;31mNameError\u001b[0m                                 Traceback (most recent call last)",
      "\u001b[0;32m/var/folders/58/4zdn6_kx1rz1scwtmmkg83kr0000gn/T/ipykernel_53558/281803205.py\u001b[0m in \u001b[0;36m<module>\u001b[0;34m\u001b[0m\n\u001b[1;32m      1\u001b[0m \u001b[0;31m# attemp 3:\u001b[0m\u001b[0;34m\u001b[0m\u001b[0;34m\u001b[0m\u001b[0m\n\u001b[1;32m      2\u001b[0m \u001b[0;34m\u001b[0m\u001b[0m\n\u001b[0;32m----> 3\u001b[0;31m \u001b[0mmostcar2_df\u001b[0m\u001b[0;34m.\u001b[0m\u001b[0minsert\u001b[0m\u001b[0;34m(\u001b[0m\u001b[0mNew_datafile_df\u001b[0m\u001b[0;34m[\u001b[0m\u001b[0;34m'Model'\u001b[0m\u001b[0;34m]\u001b[0m\u001b[0;34m.\u001b[0m\u001b[0mvalue_counts\u001b[0m\u001b[0;34m(\u001b[0m\u001b[0;34m)\u001b[0m\u001b[0;34m)\u001b[0m\u001b[0;34m\u001b[0m\u001b[0;34m\u001b[0m\u001b[0m\n\u001b[0m\u001b[1;32m      4\u001b[0m \u001b[0mmostcar2_df\u001b[0m\u001b[0;34m\u001b[0m\u001b[0;34m\u001b[0m\u001b[0m\n",
      "\u001b[0;31mNameError\u001b[0m: name 'mostcar2_df' is not defined"
     ]
    }
   ],
   "source": [
    "# attemp 3:\n",
    "\n",
    "mostcar2_df.insert(New_datafile_df['Model'].value_counts())\n",
    "mostcar2_df"
   ]
  },
  {
   "cell_type": "code",
   "execution_count": 628,
   "metadata": {},
   "outputs": [],
   "source": [
    "# When were these cars made? How big is the engine of these cars?\n",
    "\n",
    "# What's the frequency of different transmissions, drivetrains and fuel types?\n",
    "\n"
   ]
  },
  {
   "cell_type": "code",
   "execution_count": 660,
   "metadata": {},
   "outputs": [
    {
     "data": {
      "text/html": [
       "<div>\n",
       "<style scoped>\n",
       "    .dataframe tbody tr th:only-of-type {\n",
       "        vertical-align: middle;\n",
       "    }\n",
       "\n",
       "    .dataframe tbody tr th {\n",
       "        vertical-align: top;\n",
       "    }\n",
       "\n",
       "    .dataframe thead th {\n",
       "        text-align: right;\n",
       "    }\n",
       "</style>\n",
       "<table border=\"1\" class=\"dataframe\">\n",
       "  <thead>\n",
       "    <tr style=\"text-align: right;\">\n",
       "      <th></th>\n",
       "      <th>Make</th>\n",
       "      <th>Model</th>\n",
       "      <th>Year</th>\n",
       "      <th>Engine Displacement</th>\n",
       "      <th>Cylinders</th>\n",
       "      <th>Transmission</th>\n",
       "      <th>Drivetrain</th>\n",
       "      <th>Vehicle Class</th>\n",
       "      <th>Fuel Type</th>\n",
       "      <th>Fuel Barrels/Year</th>\n",
       "      <th>City KM/L</th>\n",
       "      <th>Highway KM/L</th>\n",
       "      <th>Combined KM/L</th>\n",
       "      <th>CO2 Emission Grams/Km</th>\n",
       "      <th>Fuel Cost/Year</th>\n",
       "    </tr>\n",
       "  </thead>\n",
       "  <tbody>\n",
       "    <tr>\n",
       "      <th>20898</th>\n",
       "      <td>Lamborghini</td>\n",
       "      <td>Countach</td>\n",
       "      <td>1990</td>\n",
       "      <td>5.2</td>\n",
       "      <td>12.0</td>\n",
       "      <td>Manual 5-spd</td>\n",
       "      <td>Rear-Wheel Drive</td>\n",
       "      <td>Two Seaters</td>\n",
       "      <td>Premium</td>\n",
       "      <td>47.087143</td>\n",
       "      <td>2.55084</td>\n",
       "      <td>4.25140</td>\n",
       "      <td>2.97598</td>\n",
       "      <td>788.877073</td>\n",
       "      <td>5800</td>\n",
       "    </tr>\n",
       "    <tr>\n",
       "      <th>20896</th>\n",
       "      <td>Lamborghini</td>\n",
       "      <td>Countach</td>\n",
       "      <td>1988</td>\n",
       "      <td>5.2</td>\n",
       "      <td>12.0</td>\n",
       "      <td>Manual 5-spd</td>\n",
       "      <td>Rear-Wheel Drive</td>\n",
       "      <td>Two Seaters</td>\n",
       "      <td>Premium</td>\n",
       "      <td>47.087143</td>\n",
       "      <td>2.55084</td>\n",
       "      <td>4.25140</td>\n",
       "      <td>2.97598</td>\n",
       "      <td>788.877073</td>\n",
       "      <td>5800</td>\n",
       "    </tr>\n",
       "    <tr>\n",
       "      <th>20895</th>\n",
       "      <td>Lamborghini</td>\n",
       "      <td>Countach</td>\n",
       "      <td>1987</td>\n",
       "      <td>5.2</td>\n",
       "      <td>12.0</td>\n",
       "      <td>Manual 5-spd</td>\n",
       "      <td>Rear-Wheel Drive</td>\n",
       "      <td>Two Seaters</td>\n",
       "      <td>Premium</td>\n",
       "      <td>47.087143</td>\n",
       "      <td>2.55084</td>\n",
       "      <td>4.25140</td>\n",
       "      <td>2.97598</td>\n",
       "      <td>788.877073</td>\n",
       "      <td>5800</td>\n",
       "    </tr>\n",
       "    <tr>\n",
       "      <th>20894</th>\n",
       "      <td>Lamborghini</td>\n",
       "      <td>Countach</td>\n",
       "      <td>1986</td>\n",
       "      <td>5.2</td>\n",
       "      <td>12.0</td>\n",
       "      <td>Manual 5-spd</td>\n",
       "      <td>Rear-Wheel Drive</td>\n",
       "      <td>Two Seaters</td>\n",
       "      <td>Premium</td>\n",
       "      <td>47.087143</td>\n",
       "      <td>2.55084</td>\n",
       "      <td>4.25140</td>\n",
       "      <td>2.97598</td>\n",
       "      <td>788.877073</td>\n",
       "      <td>5800</td>\n",
       "    </tr>\n",
       "    <tr>\n",
       "      <th>20897</th>\n",
       "      <td>Lamborghini</td>\n",
       "      <td>Countach</td>\n",
       "      <td>1989</td>\n",
       "      <td>5.2</td>\n",
       "      <td>12.0</td>\n",
       "      <td>Manual 5-spd</td>\n",
       "      <td>Rear-Wheel Drive</td>\n",
       "      <td>Two Seaters</td>\n",
       "      <td>Premium</td>\n",
       "      <td>47.087143</td>\n",
       "      <td>2.55084</td>\n",
       "      <td>4.25140</td>\n",
       "      <td>2.97598</td>\n",
       "      <td>788.877073</td>\n",
       "      <td>5800</td>\n",
       "    </tr>\n",
       "    <tr>\n",
       "      <th>...</th>\n",
       "      <td>...</td>\n",
       "      <td>...</td>\n",
       "      <td>...</td>\n",
       "      <td>...</td>\n",
       "      <td>...</td>\n",
       "      <td>...</td>\n",
       "      <td>...</td>\n",
       "      <td>...</td>\n",
       "      <td>...</td>\n",
       "      <td>...</td>\n",
       "      <td>...</td>\n",
       "      <td>...</td>\n",
       "      <td>...</td>\n",
       "      <td>...</td>\n",
       "      <td>...</td>\n",
       "    </tr>\n",
       "    <tr>\n",
       "      <th>17296</th>\n",
       "      <td>Honda</td>\n",
       "      <td>Civic CNG</td>\n",
       "      <td>2009</td>\n",
       "      <td>1.8</td>\n",
       "      <td>4.0</td>\n",
       "      <td>Automatic 5-spd</td>\n",
       "      <td>Front-Wheel Drive</td>\n",
       "      <td>Subcompact Cars</td>\n",
       "      <td>CNG</td>\n",
       "      <td>0.066429</td>\n",
       "      <td>10.20336</td>\n",
       "      <td>15.30504</td>\n",
       "      <td>11.90392</td>\n",
       "      <td>157.329913</td>\n",
       "      <td>1100</td>\n",
       "    </tr>\n",
       "    <tr>\n",
       "      <th>17396</th>\n",
       "      <td>Honda</td>\n",
       "      <td>Civic Natural Gas</td>\n",
       "      <td>2013</td>\n",
       "      <td>1.8</td>\n",
       "      <td>4.0</td>\n",
       "      <td>Automatic 5-spd</td>\n",
       "      <td>Front-Wheel Drive</td>\n",
       "      <td>Compact Cars</td>\n",
       "      <td>CNG</td>\n",
       "      <td>0.060000</td>\n",
       "      <td>11.47878</td>\n",
       "      <td>16.15532</td>\n",
       "      <td>13.17934</td>\n",
       "      <td>135.459257</td>\n",
       "      <td>1000</td>\n",
       "    </tr>\n",
       "    <tr>\n",
       "      <th>17398</th>\n",
       "      <td>Honda</td>\n",
       "      <td>Civic Natural Gas</td>\n",
       "      <td>2015</td>\n",
       "      <td>1.8</td>\n",
       "      <td>4.0</td>\n",
       "      <td>Automatic 5-spd</td>\n",
       "      <td>Front-Wheel Drive</td>\n",
       "      <td>Compact Cars</td>\n",
       "      <td>CNG</td>\n",
       "      <td>0.060000</td>\n",
       "      <td>11.47878</td>\n",
       "      <td>16.15532</td>\n",
       "      <td>13.17934</td>\n",
       "      <td>135.459257</td>\n",
       "      <td>1000</td>\n",
       "    </tr>\n",
       "    <tr>\n",
       "      <th>17397</th>\n",
       "      <td>Honda</td>\n",
       "      <td>Civic Natural Gas</td>\n",
       "      <td>2014</td>\n",
       "      <td>1.8</td>\n",
       "      <td>4.0</td>\n",
       "      <td>Automatic 5-spd</td>\n",
       "      <td>Front-Wheel Drive</td>\n",
       "      <td>Compact Cars</td>\n",
       "      <td>CNG</td>\n",
       "      <td>0.060000</td>\n",
       "      <td>11.47878</td>\n",
       "      <td>16.15532</td>\n",
       "      <td>13.17934</td>\n",
       "      <td>135.459257</td>\n",
       "      <td>1000</td>\n",
       "    </tr>\n",
       "    <tr>\n",
       "      <th>17395</th>\n",
       "      <td>Honda</td>\n",
       "      <td>Civic Natural Gas</td>\n",
       "      <td>2012</td>\n",
       "      <td>1.8</td>\n",
       "      <td>4.0</td>\n",
       "      <td>Automatic 5-spd</td>\n",
       "      <td>Front-Wheel Drive</td>\n",
       "      <td>Compact Cars</td>\n",
       "      <td>CNG</td>\n",
       "      <td>0.060000</td>\n",
       "      <td>11.47878</td>\n",
       "      <td>16.15532</td>\n",
       "      <td>13.17934</td>\n",
       "      <td>142.104437</td>\n",
       "      <td>1000</td>\n",
       "    </tr>\n",
       "  </tbody>\n",
       "</table>\n",
       "<p>35952 rows × 15 columns</p>\n",
       "</div>"
      ],
      "text/plain": [
       "              Make              Model  Year  Engine Displacement  Cylinders  \\\n",
       "20898  Lamborghini           Countach  1990                  5.2       12.0   \n",
       "20896  Lamborghini           Countach  1988                  5.2       12.0   \n",
       "20895  Lamborghini           Countach  1987                  5.2       12.0   \n",
       "20894  Lamborghini           Countach  1986                  5.2       12.0   \n",
       "20897  Lamborghini           Countach  1989                  5.2       12.0   \n",
       "...            ...                ...   ...                  ...        ...   \n",
       "17296        Honda          Civic CNG  2009                  1.8        4.0   \n",
       "17396        Honda  Civic Natural Gas  2013                  1.8        4.0   \n",
       "17398        Honda  Civic Natural Gas  2015                  1.8        4.0   \n",
       "17397        Honda  Civic Natural Gas  2014                  1.8        4.0   \n",
       "17395        Honda  Civic Natural Gas  2012                  1.8        4.0   \n",
       "\n",
       "          Transmission         Drivetrain    Vehicle Class Fuel Type  \\\n",
       "20898     Manual 5-spd   Rear-Wheel Drive      Two Seaters   Premium   \n",
       "20896     Manual 5-spd   Rear-Wheel Drive      Two Seaters   Premium   \n",
       "20895     Manual 5-spd   Rear-Wheel Drive      Two Seaters   Premium   \n",
       "20894     Manual 5-spd   Rear-Wheel Drive      Two Seaters   Premium   \n",
       "20897     Manual 5-spd   Rear-Wheel Drive      Two Seaters   Premium   \n",
       "...                ...                ...              ...       ...   \n",
       "17296  Automatic 5-spd  Front-Wheel Drive  Subcompact Cars       CNG   \n",
       "17396  Automatic 5-spd  Front-Wheel Drive     Compact Cars       CNG   \n",
       "17398  Automatic 5-spd  Front-Wheel Drive     Compact Cars       CNG   \n",
       "17397  Automatic 5-spd  Front-Wheel Drive     Compact Cars       CNG   \n",
       "17395  Automatic 5-spd  Front-Wheel Drive     Compact Cars       CNG   \n",
       "\n",
       "       Fuel Barrels/Year  City KM/L  Highway KM/L  Combined KM/L  \\\n",
       "20898          47.087143    2.55084       4.25140        2.97598   \n",
       "20896          47.087143    2.55084       4.25140        2.97598   \n",
       "20895          47.087143    2.55084       4.25140        2.97598   \n",
       "20894          47.087143    2.55084       4.25140        2.97598   \n",
       "20897          47.087143    2.55084       4.25140        2.97598   \n",
       "...                  ...        ...           ...            ...   \n",
       "17296           0.066429   10.20336      15.30504       11.90392   \n",
       "17396           0.060000   11.47878      16.15532       13.17934   \n",
       "17398           0.060000   11.47878      16.15532       13.17934   \n",
       "17397           0.060000   11.47878      16.15532       13.17934   \n",
       "17395           0.060000   11.47878      16.15532       13.17934   \n",
       "\n",
       "       CO2 Emission Grams/Km  Fuel Cost/Year  \n",
       "20898             788.877073            5800  \n",
       "20896             788.877073            5800  \n",
       "20895             788.877073            5800  \n",
       "20894             788.877073            5800  \n",
       "20897             788.877073            5800  \n",
       "...                      ...             ...  \n",
       "17296             157.329913            1100  \n",
       "17396             135.459257            1000  \n",
       "17398             135.459257            1000  \n",
       "17397             135.459257            1000  \n",
       "17395             142.104437            1000  \n",
       "\n",
       "[35952 rows x 15 columns]"
      ]
     },
     "execution_count": 660,
     "metadata": {},
     "output_type": "execute_result"
    }
   ],
   "source": [
    "# What's the car that consumes the least/most fuel?\n",
    "\n",
    "New_datafile_df = pd.DataFrame(New_datafile_df)\n",
    "New_datafile_df.sort_values(by=['Fuel Barrels/Year'], ascending=False)"
   ]
  },
  {
   "cell_type": "markdown",
   "metadata": {
    "id": "rcSnpI3I6Fg8"
   },
   "source": [
    "What brand has the worse CO2 Emissions on average?\n",
    "\n",
    "Hint: use the function `sort_values()`"
   ]
  },
  {
   "cell_type": "code",
   "execution_count": 662,
   "metadata": {
    "colab": {
     "base_uri": "https://localhost:8080/",
     "height": 686
    },
    "executionInfo": {
     "elapsed": 270,
     "status": "ok",
     "timestamp": 1623145362738,
     "user": {
      "displayName": "Ignacio Soteras",
      "photoUrl": "",
      "userId": "02050793736257155229"
     },
     "user_tz": -120
    },
    "id": "SV2s8Lm66Fg8",
    "outputId": "ca1f005a-f090-4cec-952f-8e20d3193b46"
   },
   "outputs": [
    {
     "data": {
      "text/html": [
       "<div>\n",
       "<style scoped>\n",
       "    .dataframe tbody tr th:only-of-type {\n",
       "        vertical-align: middle;\n",
       "    }\n",
       "\n",
       "    .dataframe tbody tr th {\n",
       "        vertical-align: top;\n",
       "    }\n",
       "\n",
       "    .dataframe thead th {\n",
       "        text-align: right;\n",
       "    }\n",
       "</style>\n",
       "<table border=\"1\" class=\"dataframe\">\n",
       "  <thead>\n",
       "    <tr style=\"text-align: right;\">\n",
       "      <th></th>\n",
       "      <th>Make</th>\n",
       "      <th>Model</th>\n",
       "      <th>Year</th>\n",
       "      <th>Engine Displacement</th>\n",
       "      <th>Cylinders</th>\n",
       "      <th>Transmission</th>\n",
       "      <th>Drivetrain</th>\n",
       "      <th>Vehicle Class</th>\n",
       "      <th>Fuel Type</th>\n",
       "      <th>Fuel Barrels/Year</th>\n",
       "      <th>City KM/L</th>\n",
       "      <th>Highway KM/L</th>\n",
       "      <th>Combined KM/L</th>\n",
       "      <th>CO2 Emission Grams/Km</th>\n",
       "      <th>Fuel Cost/Year</th>\n",
       "    </tr>\n",
       "  </thead>\n",
       "  <tbody>\n",
       "    <tr>\n",
       "      <th>20897</th>\n",
       "      <td>Lamborghini</td>\n",
       "      <td>Countach</td>\n",
       "      <td>1989</td>\n",
       "      <td>5.2</td>\n",
       "      <td>12.0</td>\n",
       "      <td>Manual 5-spd</td>\n",
       "      <td>Rear-Wheel Drive</td>\n",
       "      <td>Two Seaters</td>\n",
       "      <td>Premium</td>\n",
       "      <td>47.087143</td>\n",
       "      <td>2.55084</td>\n",
       "      <td>4.25140</td>\n",
       "      <td>2.97598</td>\n",
       "      <td>788.877073</td>\n",
       "      <td>5800</td>\n",
       "    </tr>\n",
       "    <tr>\n",
       "      <th>20898</th>\n",
       "      <td>Lamborghini</td>\n",
       "      <td>Countach</td>\n",
       "      <td>1990</td>\n",
       "      <td>5.2</td>\n",
       "      <td>12.0</td>\n",
       "      <td>Manual 5-spd</td>\n",
       "      <td>Rear-Wheel Drive</td>\n",
       "      <td>Two Seaters</td>\n",
       "      <td>Premium</td>\n",
       "      <td>47.087143</td>\n",
       "      <td>2.55084</td>\n",
       "      <td>4.25140</td>\n",
       "      <td>2.97598</td>\n",
       "      <td>788.877073</td>\n",
       "      <td>5800</td>\n",
       "    </tr>\n",
       "    <tr>\n",
       "      <th>20896</th>\n",
       "      <td>Lamborghini</td>\n",
       "      <td>Countach</td>\n",
       "      <td>1988</td>\n",
       "      <td>5.2</td>\n",
       "      <td>12.0</td>\n",
       "      <td>Manual 5-spd</td>\n",
       "      <td>Rear-Wheel Drive</td>\n",
       "      <td>Two Seaters</td>\n",
       "      <td>Premium</td>\n",
       "      <td>47.087143</td>\n",
       "      <td>2.55084</td>\n",
       "      <td>4.25140</td>\n",
       "      <td>2.97598</td>\n",
       "      <td>788.877073</td>\n",
       "      <td>5800</td>\n",
       "    </tr>\n",
       "    <tr>\n",
       "      <th>20895</th>\n",
       "      <td>Lamborghini</td>\n",
       "      <td>Countach</td>\n",
       "      <td>1987</td>\n",
       "      <td>5.2</td>\n",
       "      <td>12.0</td>\n",
       "      <td>Manual 5-spd</td>\n",
       "      <td>Rear-Wheel Drive</td>\n",
       "      <td>Two Seaters</td>\n",
       "      <td>Premium</td>\n",
       "      <td>47.087143</td>\n",
       "      <td>2.55084</td>\n",
       "      <td>4.25140</td>\n",
       "      <td>2.97598</td>\n",
       "      <td>788.877073</td>\n",
       "      <td>5800</td>\n",
       "    </tr>\n",
       "    <tr>\n",
       "      <th>20894</th>\n",
       "      <td>Lamborghini</td>\n",
       "      <td>Countach</td>\n",
       "      <td>1986</td>\n",
       "      <td>5.2</td>\n",
       "      <td>12.0</td>\n",
       "      <td>Manual 5-spd</td>\n",
       "      <td>Rear-Wheel Drive</td>\n",
       "      <td>Two Seaters</td>\n",
       "      <td>Premium</td>\n",
       "      <td>47.087143</td>\n",
       "      <td>2.55084</td>\n",
       "      <td>4.25140</td>\n",
       "      <td>2.97598</td>\n",
       "      <td>788.877073</td>\n",
       "      <td>5800</td>\n",
       "    </tr>\n",
       "    <tr>\n",
       "      <th>...</th>\n",
       "      <td>...</td>\n",
       "      <td>...</td>\n",
       "      <td>...</td>\n",
       "      <td>...</td>\n",
       "      <td>...</td>\n",
       "      <td>...</td>\n",
       "      <td>...</td>\n",
       "      <td>...</td>\n",
       "      <td>...</td>\n",
       "      <td>...</td>\n",
       "      <td>...</td>\n",
       "      <td>...</td>\n",
       "      <td>...</td>\n",
       "      <td>...</td>\n",
       "      <td>...</td>\n",
       "    </tr>\n",
       "    <tr>\n",
       "      <th>7917</th>\n",
       "      <td>Chevrolet</td>\n",
       "      <td>Volt</td>\n",
       "      <td>2017</td>\n",
       "      <td>1.5</td>\n",
       "      <td>4.0</td>\n",
       "      <td>Automatic (variable gear ratios)</td>\n",
       "      <td>Front-Wheel Drive</td>\n",
       "      <td>Compact Cars</td>\n",
       "      <td>Regular Gas or Electricity</td>\n",
       "      <td>2.006844</td>\n",
       "      <td>18.28102</td>\n",
       "      <td>17.85588</td>\n",
       "      <td>17.85588</td>\n",
       "      <td>31.690010</td>\n",
       "      <td>800</td>\n",
       "    </tr>\n",
       "    <tr>\n",
       "      <th>7916</th>\n",
       "      <td>Chevrolet</td>\n",
       "      <td>Volt</td>\n",
       "      <td>2016</td>\n",
       "      <td>1.5</td>\n",
       "      <td>4.0</td>\n",
       "      <td>Automatic (variable gear ratios)</td>\n",
       "      <td>Front-Wheel Drive</td>\n",
       "      <td>Compact Cars</td>\n",
       "      <td>Regular Gas or Electricity</td>\n",
       "      <td>2.006844</td>\n",
       "      <td>18.28102</td>\n",
       "      <td>17.85588</td>\n",
       "      <td>17.85588</td>\n",
       "      <td>31.690010</td>\n",
       "      <td>800</td>\n",
       "    </tr>\n",
       "    <tr>\n",
       "      <th>3070</th>\n",
       "      <td>BMW</td>\n",
       "      <td>i3 REX</td>\n",
       "      <td>2015</td>\n",
       "      <td>0.6</td>\n",
       "      <td>2.0</td>\n",
       "      <td>Automatic (A1)</td>\n",
       "      <td>Rear-Wheel Drive</td>\n",
       "      <td>Subcompact Cars</td>\n",
       "      <td>Premium Gas or Electricity</td>\n",
       "      <td>1.563190</td>\n",
       "      <td>17.43074</td>\n",
       "      <td>15.73018</td>\n",
       "      <td>16.58046</td>\n",
       "      <td>24.854909</td>\n",
       "      <td>1050</td>\n",
       "    </tr>\n",
       "    <tr>\n",
       "      <th>3069</th>\n",
       "      <td>BMW</td>\n",
       "      <td>i3 REX</td>\n",
       "      <td>2014</td>\n",
       "      <td>0.6</td>\n",
       "      <td>2.0</td>\n",
       "      <td>Auto(A1)</td>\n",
       "      <td>Rear-Wheel Drive</td>\n",
       "      <td>Subcompact Cars</td>\n",
       "      <td>Premium Gas or Electricity</td>\n",
       "      <td>1.563190</td>\n",
       "      <td>17.43074</td>\n",
       "      <td>15.73018</td>\n",
       "      <td>16.58046</td>\n",
       "      <td>24.854909</td>\n",
       "      <td>1050</td>\n",
       "    </tr>\n",
       "    <tr>\n",
       "      <th>3071</th>\n",
       "      <td>BMW</td>\n",
       "      <td>i3 REX</td>\n",
       "      <td>2016</td>\n",
       "      <td>0.6</td>\n",
       "      <td>2.0</td>\n",
       "      <td>Automatic (A1)</td>\n",
       "      <td>Rear-Wheel Drive</td>\n",
       "      <td>Subcompact Cars</td>\n",
       "      <td>Premium Gas or Electricity</td>\n",
       "      <td>1.563190</td>\n",
       "      <td>17.43074</td>\n",
       "      <td>15.73018</td>\n",
       "      <td>16.58046</td>\n",
       "      <td>22.990791</td>\n",
       "      <td>1050</td>\n",
       "    </tr>\n",
       "  </tbody>\n",
       "</table>\n",
       "<p>35952 rows × 15 columns</p>\n",
       "</div>"
      ],
      "text/plain": [
       "              Make     Model  Year  Engine Displacement  Cylinders  \\\n",
       "20897  Lamborghini  Countach  1989                  5.2       12.0   \n",
       "20898  Lamborghini  Countach  1990                  5.2       12.0   \n",
       "20896  Lamborghini  Countach  1988                  5.2       12.0   \n",
       "20895  Lamborghini  Countach  1987                  5.2       12.0   \n",
       "20894  Lamborghini  Countach  1986                  5.2       12.0   \n",
       "...            ...       ...   ...                  ...        ...   \n",
       "7917     Chevrolet      Volt  2017                  1.5        4.0   \n",
       "7916     Chevrolet      Volt  2016                  1.5        4.0   \n",
       "3070           BMW    i3 REX  2015                  0.6        2.0   \n",
       "3069           BMW    i3 REX  2014                  0.6        2.0   \n",
       "3071           BMW    i3 REX  2016                  0.6        2.0   \n",
       "\n",
       "                           Transmission         Drivetrain    Vehicle Class  \\\n",
       "20897                      Manual 5-spd   Rear-Wheel Drive      Two Seaters   \n",
       "20898                      Manual 5-spd   Rear-Wheel Drive      Two Seaters   \n",
       "20896                      Manual 5-spd   Rear-Wheel Drive      Two Seaters   \n",
       "20895                      Manual 5-spd   Rear-Wheel Drive      Two Seaters   \n",
       "20894                      Manual 5-spd   Rear-Wheel Drive      Two Seaters   \n",
       "...                                 ...                ...              ...   \n",
       "7917   Automatic (variable gear ratios)  Front-Wheel Drive     Compact Cars   \n",
       "7916   Automatic (variable gear ratios)  Front-Wheel Drive     Compact Cars   \n",
       "3070                     Automatic (A1)   Rear-Wheel Drive  Subcompact Cars   \n",
       "3069                           Auto(A1)   Rear-Wheel Drive  Subcompact Cars   \n",
       "3071                     Automatic (A1)   Rear-Wheel Drive  Subcompact Cars   \n",
       "\n",
       "                        Fuel Type  Fuel Barrels/Year  City KM/L  Highway KM/L  \\\n",
       "20897                     Premium          47.087143    2.55084       4.25140   \n",
       "20898                     Premium          47.087143    2.55084       4.25140   \n",
       "20896                     Premium          47.087143    2.55084       4.25140   \n",
       "20895                     Premium          47.087143    2.55084       4.25140   \n",
       "20894                     Premium          47.087143    2.55084       4.25140   \n",
       "...                           ...                ...        ...           ...   \n",
       "7917   Regular Gas or Electricity           2.006844   18.28102      17.85588   \n",
       "7916   Regular Gas or Electricity           2.006844   18.28102      17.85588   \n",
       "3070   Premium Gas or Electricity           1.563190   17.43074      15.73018   \n",
       "3069   Premium Gas or Electricity           1.563190   17.43074      15.73018   \n",
       "3071   Premium Gas or Electricity           1.563190   17.43074      15.73018   \n",
       "\n",
       "       Combined KM/L  CO2 Emission Grams/Km  Fuel Cost/Year  \n",
       "20897        2.97598             788.877073            5800  \n",
       "20898        2.97598             788.877073            5800  \n",
       "20896        2.97598             788.877073            5800  \n",
       "20895        2.97598             788.877073            5800  \n",
       "20894        2.97598             788.877073            5800  \n",
       "...              ...                    ...             ...  \n",
       "7917        17.85588              31.690010             800  \n",
       "7916        17.85588              31.690010             800  \n",
       "3070        16.58046              24.854909            1050  \n",
       "3069        16.58046              24.854909            1050  \n",
       "3071        16.58046              22.990791            1050  \n",
       "\n",
       "[35952 rows x 15 columns]"
      ]
     },
     "execution_count": 662,
     "metadata": {},
     "output_type": "execute_result"
    }
   ],
   "source": [
    "## What brand has the worse CO2 Emissions on average?\n",
    "\n",
    "\n",
    "New_datafile_df.sort_values(by=['CO2 Emission Grams/Km'], ascending=False)"
   ]
  },
  {
   "cell_type": "markdown",
   "metadata": {
    "id": "2avLmljX6Fg9"
   },
   "source": [
    "Do cars with automatic transmission consume more fuel than cars with manual transmission on average?"
   ]
  },
  {
   "cell_type": "code",
   "execution_count": 667,
   "metadata": {},
   "outputs": [
    {
     "name": "stdout",
     "output_type": "stream",
     "text": [
      "                        Make                Model  Year  Engine Displacement  \\\n",
      "0                 AM General    DJ Po Vehicle 2WD  1984                  2.5   \n",
      "1                 AM General     FJ8c Post Office  1984                  4.2   \n",
      "2                 AM General  Post Office DJ5 2WD  1985                  2.5   \n",
      "3                 AM General  Post Office DJ8 2WD  1985                  4.2   \n",
      "4           ASC Incorporated                  GNX  1987                  3.8   \n",
      "...                      ...                  ...   ...                  ...   \n",
      "35920  Wallace Environmental            Wetl 850I  1992                  5.0   \n",
      "35940                  smart   fortwo convertible  2008                  1.0   \n",
      "35941                  smart   fortwo convertible  2009                  1.0   \n",
      "35942                  smart         fortwo coupe  2008                  1.0   \n",
      "35943                  smart         fortwo coupe  2009                  1.0   \n",
      "\n",
      "       Cylinders     Transmission        Drivetrain  \\\n",
      "0            4.0  Automatic 3-spd     2-Wheel Drive   \n",
      "1            6.0  Automatic 3-spd     2-Wheel Drive   \n",
      "2            4.0  Automatic 3-spd  Rear-Wheel Drive   \n",
      "3            6.0  Automatic 3-spd  Rear-Wheel Drive   \n",
      "4            6.0  Automatic 4-spd  Rear-Wheel Drive   \n",
      "...          ...              ...               ...   \n",
      "35920       12.0  Automatic 4-spd  Rear-Wheel Drive   \n",
      "35940        3.0   Automatic (S5)  Rear-Wheel Drive   \n",
      "35941        3.0  Automatic (AM5)  Rear-Wheel Drive   \n",
      "35942        3.0   Automatic (S5)  Rear-Wheel Drive   \n",
      "35943        3.0  Automatic (AM5)  Rear-Wheel Drive   \n",
      "\n",
      "                     Vehicle Class Fuel Type  Fuel Barrels/Year  City KM/L  \\\n",
      "0      Special Purpose Vehicle 2WD   Regular          19.388824    7.65252   \n",
      "1      Special Purpose Vehicle 2WD   Regular          25.354615    5.52682   \n",
      "2      Special Purpose Vehicle 2WD   Regular          20.600625    6.80224   \n",
      "3      Special Purpose Vehicle 2WD   Regular          25.354615    5.52682   \n",
      "4                     Midsize Cars   Premium          20.600625    5.95196   \n",
      "...                            ...       ...                ...        ...   \n",
      "35920              Subcompact Cars   Premium          25.354615    4.67654   \n",
      "35940                  Two Seaters   Premium           9.155833   14.02962   \n",
      "35941                  Two Seaters   Premium           9.155833   14.02962   \n",
      "35942                  Two Seaters   Premium           9.155833   14.02962   \n",
      "35943                  Two Seaters   Premium           9.155833   14.02962   \n",
      "\n",
      "       Highway KM/L  Combined KM/L  CO2 Emission Grams/Km  Fuel Cost/Year  \n",
      "0           7.22738        7.22738             324.831736            1950  \n",
      "1           5.52682        5.52682             424.779962            2550  \n",
      "2           7.22738        6.80224             345.133719            2100  \n",
      "3           5.52682        5.52682             424.779962            2550  \n",
      "4           8.92794        6.80224             345.133719            2550  \n",
      "...             ...            ...                    ...             ...  \n",
      "35920       7.22738        5.52682             424.779962            3100  \n",
      "35940      17.43074       15.30504             153.392764            1100  \n",
      "35941      17.43074       15.30504             153.392764            1100  \n",
      "35942      17.43074       15.30504             153.392764            1100  \n",
      "35943      17.43074       15.30504             153.392764            1100  \n",
      "\n",
      "[23408 rows x 15 columns]\n"
     ]
    }
   ],
   "source": [
    "## Your Code is here \n",
    "\n",
    "Automatic_df = pd.DataFrame(New_datafile_df.loc[New_datafile_df['Transmission'].str.contains(\"Automatic\")])\n",
    "print(Automatic_df)"
   ]
  },
  {
   "cell_type": "code",
   "execution_count": 670,
   "metadata": {},
   "outputs": [
    {
     "name": "stdout",
     "output_type": "stream",
     "text": [
      "18.156082309251538\n"
     ]
    }
   ],
   "source": [
    "Automatic_mean = Automatic_df[\"Fuel Barrels/Year\"].mean()\n",
    "print(Automatic_mean)"
   ]
  },
  {
   "cell_type": "code",
   "execution_count": 671,
   "metadata": {},
   "outputs": [
    {
     "name": "stdout",
     "output_type": "stream",
     "text": [
      "        Make             Model  Year  Engine Displacement  Cylinders  \\\n",
      "6      Acura       2.2CL/3.0CL  1997                  2.2        4.0   \n",
      "9      Acura       2.3CL/3.0CL  1998                  2.3        4.0   \n",
      "12     Acura       2.3CL/3.0CL  1999                  2.3        4.0   \n",
      "23     Acura             3.2CL  2003                  3.2        6.0   \n",
      "40     Acura               ILX  2013                  2.4        4.0   \n",
      "...      ...               ...   ...                  ...        ...   \n",
      "35929   Yugo            GV/GVX  1989                  1.1        4.0   \n",
      "35930   Yugo            GV/GVX  1989                  1.3        4.0   \n",
      "35931   Yugo       Gy/yugo GVX  1986                  1.1        4.0   \n",
      "35939  smart  fortwo cabriolet  2017                  0.9        3.0   \n",
      "35951  smart      fortwo coupe  2016                  0.9        3.0   \n",
      "\n",
      "       Transmission         Drivetrain     Vehicle Class Fuel Type  \\\n",
      "6      Manual 5-spd  Front-Wheel Drive   Subcompact Cars   Regular   \n",
      "9      Manual 5-spd  Front-Wheel Drive   Subcompact Cars   Regular   \n",
      "12     Manual 5-spd  Front-Wheel Drive   Subcompact Cars   Regular   \n",
      "23     Manual 6-spd  Front-Wheel Drive      Compact Cars   Premium   \n",
      "40     Manual 6-spd  Front-Wheel Drive      Compact Cars   Premium   \n",
      "...             ...                ...               ...       ...   \n",
      "35929  Manual 4-spd  Front-Wheel Drive   Subcompact Cars   Regular   \n",
      "35930  Manual 5-spd  Front-Wheel Drive   Subcompact Cars   Regular   \n",
      "35931  Manual 4-spd  Front-Wheel Drive  Minicompact Cars   Regular   \n",
      "35939  Manual 5-spd   Rear-Wheel Drive       Two Seaters   Premium   \n",
      "35951  Manual 5-spd   Rear-Wheel Drive       Two Seaters   Premium   \n",
      "\n",
      "       Fuel Barrels/Year  City KM/L  Highway KM/L  Combined KM/L  \\\n",
      "6              13.733750    9.35308      11.90392       10.20336   \n",
      "9              13.733750    8.92794      12.32906       10.20336   \n",
      "12             13.733750    8.92794      12.32906       10.20336   \n",
      "23             16.480500    7.22738      11.05364        8.50280   \n",
      "40             13.184400    9.35308      13.17934       10.62850   \n",
      "...                  ...        ...           ...            ...   \n",
      "35929          12.677308   10.20336      12.32906       11.05364   \n",
      "35930          13.184400    9.77822      11.90392       10.62850   \n",
      "35931          13.184400    9.35308      12.32906       10.62850   \n",
      "35939           9.694412   13.17934      16.15532       14.45476   \n",
      "35951           9.417429   13.60448      16.58046       14.87990   \n",
      "\n",
      "       CO2 Emission Grams/Km  Fuel Cost/Year  \n",
      "6                 230.089146            1400  \n",
      "9                 230.089146            1400  \n",
      "12                230.089146            1400  \n",
      "23                276.106976            2000  \n",
      "40                224.315558            1600  \n",
      "...                      ...             ...  \n",
      "35929             212.389981            1300  \n",
      "35930             220.885580            1350  \n",
      "35931             220.885580            1350  \n",
      "35939             160.314166            1200  \n",
      "35951             158.450048            1150  \n",
      "\n",
      "[11662 rows x 15 columns]\n"
     ]
    }
   ],
   "source": [
    "Manual_df = pd.DataFrame(New_datafile_df.loc[New_datafile_df['Transmission'].str.contains(\"Manual\")])\n",
    "print(Manual_df)"
   ]
  },
  {
   "cell_type": "code",
   "execution_count": 672,
   "metadata": {},
   "outputs": [
    {
     "name": "stdout",
     "output_type": "stream",
     "text": [
      "16.704904365383218\n"
     ]
    }
   ],
   "source": [
    "Manual_mean = Manual_df[\"Fuel Barrels/Year\"].mean()\n",
    "print(Manual_mean)"
   ]
  },
  {
   "cell_type": "code",
   "execution_count": 673,
   "metadata": {},
   "outputs": [
    {
     "data": {
      "text/plain": [
       "True"
      ]
     },
     "execution_count": 673,
     "metadata": {},
     "output_type": "execute_result"
    }
   ],
   "source": [
    "Automatic_mean > Manual_mean"
   ]
  },
  {
   "cell_type": "code",
   "execution_count": null,
   "metadata": {},
   "outputs": [],
   "source": []
  }
 ],
 "metadata": {
  "colab": {
   "name": "Pandas_Grouping_Joining_Cars_Structure.ipynb",
   "provenance": []
  },
  "kernelspec": {
   "display_name": "Python 3 (ipykernel)",
   "language": "python",
   "name": "python3"
  },
  "language_info": {
   "codemirror_mode": {
    "name": "ipython",
    "version": 3
   },
   "file_extension": ".py",
   "mimetype": "text/x-python",
   "name": "python",
   "nbconvert_exporter": "python",
   "pygments_lexer": "ipython3",
   "version": "3.9.7"
  },
  "toc": {
   "base_numbering": 1,
   "nav_menu": {},
   "number_sections": true,
   "sideBar": true,
   "skip_h1_title": false,
   "title_cell": "Table of Contents",
   "title_sidebar": "Contents",
   "toc_cell": false,
   "toc_position": {},
   "toc_section_display": true,
   "toc_window_display": false
  },
  "varInspector": {
   "cols": {
    "lenName": 16,
    "lenType": 16,
    "lenVar": 40
   },
   "kernels_config": {
    "python": {
     "delete_cmd_postfix": "",
     "delete_cmd_prefix": "del ",
     "library": "var_list.py",
     "varRefreshCmd": "print(var_dic_list())"
    },
    "r": {
     "delete_cmd_postfix": ") ",
     "delete_cmd_prefix": "rm(",
     "library": "var_list.r",
     "varRefreshCmd": "cat(var_dic_list()) "
    }
   },
   "types_to_exclude": [
    "module",
    "function",
    "builtin_function_or_method",
    "instance",
    "_Feature"
   ],
   "window_display": false
  }
 },
 "nbformat": 4,
 "nbformat_minor": 4
}
