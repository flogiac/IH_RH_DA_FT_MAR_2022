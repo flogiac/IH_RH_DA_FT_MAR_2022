{
 "cells": [
  {
   "cell_type": "markdown",
   "id": "370cb6bc",
   "metadata": {},
   "source": [
    "## Pandas Data Frames"
   ]
  },
  {
   "cell_type": "markdown",
   "id": "3bde899d",
   "metadata": {},
   "source": [
    "- What Is Pandas?\n",
    "- Pandas vs Numpy \n",
    "- Pandas Data Frame Intro\n",
    "- Pandas Data Frame fundamental operations\n",
    "    - Creating\n",
    "    - Selecting/indexing\n",
    "    - Inserting rows/columns\n",
    "    - Setting data\n",
    "    - Filtering\n",
    "    - dropping rwos/ columns\n",
    "- Dealing with Missing values"
   ]
  },
  {
   "cell_type": "markdown",
   "id": "569d8f78",
   "metadata": {
    "slideshow": {
     "slide_type": "slide"
    }
   },
   "source": [
    "%matplotlib inline\n",
    "import numpy as np\n",
    "import pandas as pd\n",
    "from IPython.display import Image\n",
    "from IPython.display import HTML\n",
    "from IPython.display import Markdown, display\n",
    "def printmd(string):\n",
    "    display(Markdown(string))\n"
   ]
  },
  {
   "cell_type": "markdown",
   "id": "36c34dad",
   "metadata": {},
   "source": [
    "CSS = \"\"\"\n",
    ".output {\n",
    "    align-items: center;\n",
    "}\n",
    "\"\"\"\n",
    "HTML('''<script>\n",
    "code_show=true; \n",
    "function code_toggle() {\n",
    " if (code_show){\n",
    " $('div.input').hide();\n",
    " } else {\n",
    " $('div.input').show();\n",
    " }\n",
    " code_show = !code_show\n",
    "} \n",
    "$( document ).ready(code_toggle);\n",
    "</script>\n",
    "<form action=\"javascript:code_toggle()\"><input type=\"submit\" value=\"Code mode\"></form>''')"
   ]
  },
  {
   "cell_type": "code",
   "execution_count": 51,
   "id": "13f53749",
   "metadata": {},
   "outputs": [
    {
     "data": {
      "text/html": [
       "<style>\n",
       ".output {\n",
       "    align-items: center;\n",
       "}\n",
       "div.output_area {\n",
       "    width: 80%;\n",
       "}\n",
       "</style>"
      ],
      "text/plain": [
       "<IPython.core.display.HTML object>"
      ]
     },
     "execution_count": 51,
     "metadata": {},
     "output_type": "execute_result"
    }
   ],
   "source": [
    "import pandas as pd\n",
    "import numpy as np\n",
    "\n",
    "from IPython.display import display, HTML\n",
    "\n",
    "CSS = \"\"\"\n",
    ".output {\n",
    "    align-items: center;\n",
    "}\n",
    "div.output_area {\n",
    "    width: 80%;\n",
    "}\n",
    "\"\"\"\n",
    "HTML('<style>{}</style>'.format(CSS))"
   ]
  },
  {
   "cell_type": "markdown",
   "id": "e34e63be",
   "metadata": {},
   "source": [
    "# What is Pandas?\n",
    "\n",
    "### - Enables working with tabular and labeled data easily and intuitively\n",
    "### - Pandas is an open-source library built on top of Numpy Package.\n",
    "- https://github.com/pandas-dev/pandas\n",
    "- https://github.com/pandas-dev/pandas/blob/059c8bac51e47d6eaaa3e36d6a293a22312925e6/pandas/core/frame.py\n",
    "\n",
    "### - Pandas data structures are:\n",
    "    - Series\n",
    "    - Index\n",
    "    - Data Frame\n",
    "    "
   ]
  },
  {
   "cell_type": "markdown",
   "id": "c0128413",
   "metadata": {},
   "source": [
    "## Quick refresh to Numpy Arrays..\n",
    "- contains Numerical ***Homogonius*** Data\n",
    "- may contain multi dimensional array elements.\n",
    "- used for performing various numerical computations and processing of the multidimensional and single-dimensional array elements."
   ]
  },
  {
   "cell_type": "code",
   "execution_count": 52,
   "id": "37b55f99",
   "metadata": {},
   "outputs": [
    {
     "name": "stdout",
     "output_type": "stream",
     "text": [
      "[[5 0 3 3]\n",
      " [7 9 3 5]\n",
      " [2 4 7 6]]\n"
     ]
    }
   ],
   "source": [
    "import numpy as np\n",
    "np.random.seed(0)  # seed for reproducibility\n",
    "\n",
    "two_dim_arr = np.random.randint(10, size=(3, 4))  # Two-dimensional array\n",
    "three_dim_arr = np.random.randint(10, size=(3, 4, 5))  # Three-dimensional array\n",
    "print(two_dim_arr)"
   ]
  },
  {
   "cell_type": "markdown",
   "id": "287b2eea",
   "metadata": {},
   "source": [
    "### A two dimensional Array example..."
   ]
  },
  {
   "cell_type": "code",
   "execution_count": 53,
   "id": "a2d4c48a",
   "metadata": {},
   "outputs": [
    {
     "name": "stdout",
     "output_type": "stream",
     "text": [
      "Two Dimentional Array\n"
     ]
    },
    {
     "data": {
      "text/plain": [
       "array([[5, 0, 3, 3],\n",
       "       [7, 9, 3, 5],\n",
       "       [2, 4, 7, 6]])"
      ]
     },
     "execution_count": 53,
     "metadata": {},
     "output_type": "execute_result"
    }
   ],
   "source": [
    "print(\"Two Dimentional Array\")\n",
    "two_dim_arr"
   ]
  },
  {
   "cell_type": "markdown",
   "id": "2f96c14b",
   "metadata": {},
   "source": [
    "### What I mean by Homogeneous..."
   ]
  },
  {
   "cell_type": "code",
   "execution_count": 54,
   "id": "cfc3a5c8",
   "metadata": {},
   "outputs": [
    {
     "name": "stdout",
     "output_type": "stream",
     "text": [
      "[[5 0 3 3]\n",
      " [7 9 3 5]\n",
      " [2 4 7 6]]\n"
     ]
    }
   ],
   "source": [
    "print(two_dim_arr)"
   ]
  },
  {
   "cell_type": "markdown",
   "id": "f6d7794b",
   "metadata": {},
   "source": [
    "**two_dim_arr[0,0] = \"Hello\"**"
   ]
  },
  {
   "cell_type": "code",
   "execution_count": 55,
   "id": "39a674af",
   "metadata": {},
   "outputs": [
    {
     "ename": "NameError",
     "evalue": "name 'printmd' is not defined",
     "output_type": "error",
     "traceback": [
      "\u001b[0;31m---------------------------------------------------------------------------\u001b[0m",
      "\u001b[0;31mNameError\u001b[0m                                 Traceback (most recent call last)",
      "\u001b[0;32m/var/folders/58/4zdn6_kx1rz1scwtmmkg83kr0000gn/T/ipykernel_45806/1614156317.py\u001b[0m in \u001b[0;36m<module>\u001b[0;34m\u001b[0m\n\u001b[0;32m----> 1\u001b[0;31m \u001b[0mprintmd\u001b[0m\u001b[0;34m(\u001b[0m\u001b[0;34m\"***Oops....***\"\u001b[0m\u001b[0;34m)\u001b[0m\u001b[0;34m\u001b[0m\u001b[0;34m\u001b[0m\u001b[0m\n\u001b[0m\u001b[1;32m      2\u001b[0m \u001b[0mtwo_dim_arr\u001b[0m\u001b[0;34m[\u001b[0m\u001b[0;36m0\u001b[0m\u001b[0;34m,\u001b[0m\u001b[0;36m0\u001b[0m\u001b[0;34m]\u001b[0m \u001b[0;34m=\u001b[0m \u001b[0;34m\"Hello\"\u001b[0m\u001b[0;34m\u001b[0m\u001b[0;34m\u001b[0m\u001b[0m\n",
      "\u001b[0;31mNameError\u001b[0m: name 'printmd' is not defined"
     ]
    }
   ],
   "source": [
    "printmd(\"***Oops....***\")\n",
    "two_dim_arr[0,0] = \"Hello\" "
   ]
  },
  {
   "cell_type": "markdown",
   "id": "8b4c900b",
   "metadata": {},
   "source": [
    "### You can directly and simply form the DataFrame from the 2D array"
   ]
  },
  {
   "cell_type": "code",
   "execution_count": null,
   "id": "52517c30",
   "metadata": {},
   "outputs": [],
   "source": [
    "print(\"Data Frame formed by 2D Array\")\n",
    "printmd(\"***df=pd.DataFrame(two_dim_arr)***\")\n",
    "df=pd.DataFrame(two_dim_arr)\n",
    "df"
   ]
  },
  {
   "cell_type": "markdown",
   "id": "5c18022e",
   "metadata": {},
   "source": [
    "### Pandas Data Frame is Heterogeneous!\n",
    "**df.iloc[0,0]=\"Hello\"**"
   ]
  },
  {
   "cell_type": "code",
   "execution_count": null,
   "id": "89d5e5ae",
   "metadata": {},
   "outputs": [],
   "source": [
    "df.iloc[0,0]=\"Hello\"\n",
    "df"
   ]
  },
  {
   "cell_type": "markdown",
   "id": "34d1c0b4",
   "metadata": {},
   "source": [
    "### Pandas Data Frame labels the data with Indices and Columns labels\n",
    "pd.DataFrame(np.random.randint(10,size=(3,2)),\n",
    "             columns=['foo', 'bar'],\n",
    "             index=['a', 'b', 'c'])"
   ]
  },
  {
   "cell_type": "code",
   "execution_count": null,
   "id": "cc4a86eb",
   "metadata": {},
   "outputs": [],
   "source": [
    "np.random.randint(10,size=(3,2))"
   ]
  },
  {
   "cell_type": "code",
   "execution_count": null,
   "id": "d3e2706e",
   "metadata": {},
   "outputs": [],
   "source": [
    "##np.random.seed(0)\n",
    "foo_df=pd.DataFrame(np.random.randint(10,size=(3,2)),\n",
    "             columns=['foo', 'bar'],\n",
    "             index=['a', 'b', 'c']\n",
    "                   )"
   ]
  },
  {
   "cell_type": "code",
   "execution_count": null,
   "id": "9ccbd4fe",
   "metadata": {},
   "outputs": [],
   "source": [
    "foo_df\n",
    "\n",
    "foo_df.loc[\"a\",:]"
   ]
  },
  {
   "cell_type": "markdown",
   "id": "5b93b668",
   "metadata": {},
   "source": [
    "### Pandas DataFrame is relevant for statistical observations/data points with various variables (categorical, etc) "
   ]
  },
  {
   "cell_type": "code",
   "execution_count": null,
   "id": "99409634",
   "metadata": {
    "scrolled": true
   },
   "outputs": [],
   "source": [
    "Image(\"res/Tidy_census.png\")"
   ]
  },
  {
   "cell_type": "markdown",
   "id": "f4812725",
   "metadata": {},
   "source": [
    "### It is intuitive...  Look how convenient it is!!"
   ]
  },
  {
   "cell_type": "code",
   "execution_count": null,
   "id": "eb678f08",
   "metadata": {},
   "outputs": [],
   "source": [
    "people_df= pd.read_csv(\"data/people.csv\")\n",
    "people_df"
   ]
  },
  {
   "cell_type": "code",
   "execution_count": null,
   "id": "0980f249",
   "metadata": {},
   "outputs": [],
   "source": [
    "Image('res/excel-to-pandas.png')"
   ]
  },
  {
   "cell_type": "markdown",
   "id": "8792a0aa",
   "metadata": {},
   "source": [
    "source: https://jalammar.github.io/"
   ]
  },
  {
   "cell_type": "markdown",
   "id": "1f7e1a34",
   "metadata": {},
   "source": [
    "### Describing the Data Frame...\n",
    "- df.Info()\n",
    "- df.count())\n",
    "- df.describe())\n",
    "- df.mean())"
   ]
  },
  {
   "cell_type": "code",
   "execution_count": null,
   "id": "90d7eae9",
   "metadata": {},
   "outputs": [],
   "source": [
    "people_df"
   ]
  },
  {
   "cell_type": "code",
   "execution_count": null,
   "id": "78f35baa",
   "metadata": {},
   "outputs": [],
   "source": [
    "people_df.iloc[0,1]=22\n",
    "people_df"
   ]
  },
  {
   "cell_type": "code",
   "execution_count": null,
   "id": "46569ca5",
   "metadata": {},
   "outputs": [],
   "source": [
    "people_df.loc[:,\"age\"].mean()"
   ]
  },
  {
   "cell_type": "code",
   "execution_count": null,
   "id": "821bb42f",
   "metadata": {},
   "outputs": [],
   "source": [
    "people_df.age=people_df.age.astype(int)"
   ]
  },
  {
   "cell_type": "code",
   "execution_count": null,
   "id": "022d6bf8",
   "metadata": {},
   "outputs": [],
   "source": [
    "people_df.info()"
   ]
  },
  {
   "cell_type": "code",
   "execution_count": null,
   "id": "25b28bae",
   "metadata": {},
   "outputs": [],
   "source": [
    "#print(df,\"\\n\")\n",
    "people_df.info()\n",
    "#print(\"df.count()  \\n\",df.count())\n",
    "#print(\"\\n df.describe() \\n\",df.describe())\n",
    "#print(\"\\n df.mean() \\n\",df.mean())"
   ]
  },
  {
   "cell_type": "code",
   "execution_count": null,
   "id": "1ea5746d",
   "metadata": {},
   "outputs": [],
   "source": [
    "people_df.iloc[:,1]"
   ]
  },
  {
   "cell_type": "code",
   "execution_count": null,
   "id": "e2b6ed83",
   "metadata": {},
   "outputs": [],
   "source": [
    "type(people_df.iloc[:,1])"
   ]
  },
  {
   "cell_type": "code",
   "execution_count": null,
   "id": "a4a7d303",
   "metadata": {},
   "outputs": [],
   "source": [
    "pd.Series([3,4,5])   ##. Pandas Series is a one dimentional data frame"
   ]
  },
  {
   "cell_type": "markdown",
   "id": "6eec01c8",
   "metadata": {},
   "source": [
    "### Pandas Data Frame operations"
   ]
  },
  {
   "cell_type": "code",
   "execution_count": null,
   "id": "0d6e25ec",
   "metadata": {},
   "outputs": [],
   "source": [
    "Image(\"res/CRUD.png\")"
   ]
  },
  {
   "cell_type": "markdown",
   "id": "36d59797",
   "metadata": {},
   "source": [
    "### Data Frame creation\n",
    "You can create/form a Data Frame from:\n",
    "- Dict of 1D ndarrays, lists, dicts, or Series\n",
    "\n",
    "- 2-D numpy.ndarray\n",
    "\n",
    "- Structured or record ndarray\n",
    "\n",
    "- A Series\n",
    "\n",
    "- Another DataFrame"
   ]
  },
  {
   "cell_type": "markdown",
   "id": "9d278902",
   "metadata": {},
   "source": [
    "#### Here is an example..."
   ]
  },
  {
   "cell_type": "code",
   "execution_count": null,
   "id": "6f8fa45f",
   "metadata": {},
   "outputs": [],
   "source": [
    "print('dic = {\"col1\": [1.0, 2.0, 3.0, 4.0], \"col2\": [4.0, 3.0, 2.0, 1.0]}\\n')\n",
    "\n",
    "dic = {\"col1\": [1.0, 2.0, 3.0, 4.0], \"col2\": [4.0, 3.0, 2.0, 1.0]}\n",
    "\n",
    "print(\"pd.DataFrame(dic)\\n\\n\",pd.DataFrame(dic))"
   ]
  },
  {
   "cell_type": "markdown",
   "id": "91e2c266",
   "metadata": {},
   "source": [
    "#### creating Index for the Data frame..."
   ]
  },
  {
   "cell_type": "code",
   "execution_count": null,
   "id": "8331acf0",
   "metadata": {},
   "outputs": [],
   "source": [
    "print('pd.DataFrame(dic, index=[\"a\", \"b\", \"c\", \"d\"]\\n\\n',\n",
    "      pd.DataFrame(dic, index=[\"a\", \"b\", \"c\", \"d\"]))"
   ]
  },
  {
   "cell_type": "markdown",
   "id": "eced2e1d",
   "metadata": {},
   "source": [
    "### Creating Data frame from Pandas Series objects.. "
   ]
  },
  {
   "cell_type": "code",
   "execution_count": null,
   "id": "7d017049",
   "metadata": {},
   "outputs": [],
   "source": [
    "d = {\n",
    "       \"apples\": pd.Series([3, 2, 0,1]),\n",
    "        \"oranges\": pd.Series([0, 3, 7, 2]),\n",
    "    }\n",
    "\n",
    "pd.DataFrame(d)"
   ]
  },
  {
   "cell_type": "code",
   "execution_count": null,
   "id": "24e5a5e3",
   "metadata": {},
   "outputs": [],
   "source": [
    "Image(\"res/series-and-dataframe.width-1200.png\")"
   ]
  },
  {
   "cell_type": "markdown",
   "id": "dc144cad",
   "metadata": {},
   "source": [
    "source: https://storage.googleapis.com/lds-media/images/series-and-dataframe.width-1200.png"
   ]
  },
  {
   "cell_type": "markdown",
   "id": "391e2c46",
   "metadata": {},
   "source": [
    "### Data Frame Selection / Indexing"
   ]
  },
  {
   "cell_type": "code",
   "execution_count": null,
   "id": "eb5c2370",
   "metadata": {},
   "outputs": [],
   "source": [
    "data = {\n",
    "    'name': ['Xavier', 'Ann', 'Jana', 'Yi', 'Robin', 'Amal', 'Nori'],\n",
    "    'city': ['Mexico City', 'Toronto', 'Prague', 'Shanghai',\n",
    "             'Manchester', 'Cairo', 'Osaka'],\n",
    "    'age': [41, 28, 33, 34, 38, 31, 37],\n",
    "    'py-score': [88.0, 79.0, 81.0, 80.0, 68.0, 61.0, 84.0]\n",
    "}\n",
    "\n",
    "row_labels = [101, 102, 103, 104, 105, 106, 107]\n",
    "students_df = pd.DataFrame(data=data, index=row_labels)\n",
    "students_df"
   ]
  },
  {
   "cell_type": "code",
   "execution_count": null,
   "id": "9d595a39",
   "metadata": {},
   "outputs": [],
   "source": [
    "students_df.index"
   ]
  },
  {
   "cell_type": "markdown",
   "id": "85a5d912",
   "metadata": {},
   "source": [
    "Source: https://realpython.com/"
   ]
  },
  {
   "cell_type": "markdown",
   "id": "1184fbfb",
   "metadata": {},
   "source": [
    "### data Selection"
   ]
  },
  {
   "cell_type": "code",
   "execution_count": null,
   "id": "02b2930a",
   "metadata": {},
   "outputs": [],
   "source": [
    "students_df.loc[[101,102],[\"city\",\"age\"]]"
   ]
  },
  {
   "cell_type": "code",
   "execution_count": null,
   "id": "91da238d",
   "metadata": {},
   "outputs": [],
   "source": [
    "students_df"
   ]
  },
  {
   "cell_type": "markdown",
   "id": "d66b3d79",
   "metadata": {},
   "source": [
    "### Selecting by Label\n",
    "- .loc[]  function"
   ]
  },
  {
   "cell_type": "code",
   "execution_count": null,
   "id": "5ae2b9dc",
   "metadata": {},
   "outputs": [],
   "source": [
    "#print(\"students_df.loc[:, 'city']\")\n",
    "#students_df.loc[:, 'city']"
   ]
  },
  {
   "cell_type": "code",
   "execution_count": null,
   "id": "4370cf9c",
   "metadata": {},
   "outputs": [],
   "source": [
    "print(\"students_df.loc[102:106, ['name', 'city']]\")\n",
    "students_df.loc[102,:]"
   ]
  },
  {
   "cell_type": "code",
   "execution_count": null,
   "id": "e68ed452",
   "metadata": {},
   "outputs": [],
   "source": [
    "#print('df[\"city\"]')\n",
    "cities = students_df[[\"age\",\"city\"]]\n",
    "cities"
   ]
  },
  {
   "cell_type": "code",
   "execution_count": null,
   "id": "b5e0fc30",
   "metadata": {},
   "outputs": [],
   "source": [
    "print(\"df.city\")\n",
    "students_df.city"
   ]
  },
  {
   "cell_type": "markdown",
   "id": "c00b849d",
   "metadata": {},
   "source": [
    "### Selecting by Position\n",
    "- .iloc[]"
   ]
  },
  {
   "cell_type": "code",
   "execution_count": null,
   "id": "1abf6658",
   "metadata": {},
   "outputs": [],
   "source": [
    "students_df.iloc[0,1]"
   ]
  },
  {
   "cell_type": "code",
   "execution_count": null,
   "id": "765ece99",
   "metadata": {
    "scrolled": true
   },
   "outputs": [],
   "source": [
    "print(\"students_df.iloc[1:6, [0, 1]]\")\n",
    "students_df.iloc[1:6, [0, 1]]"
   ]
  },
  {
   "cell_type": "markdown",
   "id": "0a2b23c3",
   "metadata": {},
   "source": [
    "### Hmm.. Can you tell what is the difference between loc and iloc?"
   ]
  },
  {
   "cell_type": "markdown",
   "id": "832ba7a1",
   "metadata": {},
   "source": [
    "#### You can use loc and iloc also to select certain data values but better to use at[] and iat[]"
   ]
  },
  {
   "cell_type": "code",
   "execution_count": null,
   "id": "287cf192",
   "metadata": {},
   "outputs": [],
   "source": [
    "print('df.at[103, name]')\n",
    "students_df.at[103, 'name']"
   ]
  },
  {
   "cell_type": "code",
   "execution_count": null,
   "id": "d9091141",
   "metadata": {},
   "outputs": [],
   "source": [
    "print('df.iat[2, 0]')\n",
    "students_df.iat[2, 0]"
   ]
  },
  {
   "cell_type": "markdown",
   "id": "45c39845",
   "metadata": {},
   "source": [
    "### Setting/ Updating data"
   ]
  },
  {
   "cell_type": "markdown",
   "id": "3a1e1eb5",
   "metadata": {},
   "source": [
    "#### let us first update the Data frame index.."
   ]
  },
  {
   "cell_type": "code",
   "execution_count": null,
   "id": "31349dd5",
   "metadata": {},
   "outputs": [],
   "source": [
    "list(np.arange(10, 17))"
   ]
  },
  {
   "cell_type": "code",
   "execution_count": null,
   "id": "a81c5ba0",
   "metadata": {},
   "outputs": [],
   "source": [
    "print ('df.index = np.arange(10, 17)')\n",
    "students_df.index = list(np.arange(10, 17))\n",
    "students_df"
   ]
  },
  {
   "cell_type": "code",
   "execution_count": null,
   "id": "0bf0cffe",
   "metadata": {},
   "outputs": [],
   "source": [
    "students_df.index"
   ]
  },
  {
   "cell_type": "code",
   "execution_count": null,
   "id": "29c9a9a6",
   "metadata": {},
   "outputs": [],
   "source": [
    "print('df.loc[:13, py-score] = [40, 50, 60, 70]')\n",
    "students_df.loc[:13, 'py-score'] = [40, 50, 60, 70]\n",
    "students_df"
   ]
  },
  {
   "cell_type": "code",
   "execution_count": null,
   "id": "6f623d6e",
   "metadata": {},
   "outputs": [],
   "source": [
    "print('df.loc[14:, py-score] = 0')\n",
    "students_df.loc[14:, 'py-score'] = 70\n",
    "students_df"
   ]
  },
  {
   "cell_type": "code",
   "execution_count": null,
   "id": "3aa310f9",
   "metadata": {},
   "outputs": [],
   "source": [
    "students_df.iloc[:, -1] = [88.0, 90, 81.0, 80.0, 68.0, 61.0, 84.0]\n",
    "students_df"
   ]
  },
  {
   "cell_type": "code",
   "execution_count": null,
   "id": "624605e8",
   "metadata": {},
   "outputs": [],
   "source": [
    "students_df[\"py-score\"]=\"Nina-score\"\n",
    "students_df"
   ]
  },
  {
   "cell_type": "code",
   "execution_count": null,
   "id": "96afd13c",
   "metadata": {},
   "outputs": [],
   "source": [
    "students_df[\"py-score\"]=students_df[\"py-score\"]  * 1.5"
   ]
  },
  {
   "cell_type": "code",
   "execution_count": null,
   "id": "1c77d0e1",
   "metadata": {},
   "outputs": [],
   "source": [
    "students_df"
   ]
  },
  {
   "cell_type": "code",
   "execution_count": null,
   "id": "6a553c56",
   "metadata": {},
   "outputs": [],
   "source": [
    "students_df[[\"age\",\"py-score\"]].info()"
   ]
  },
  {
   "cell_type": "code",
   "execution_count": null,
   "id": "42892f84",
   "metadata": {},
   "outputs": [],
   "source": [
    "students_df[\"py-score\"]=list(map(lambda x: x+10,students_df[\"py-score\"]))"
   ]
  },
  {
   "cell_type": "code",
   "execution_count": null,
   "id": "aa386296",
   "metadata": {},
   "outputs": [],
   "source": [
    "students_df[\"py-score\"]+=  10 "
   ]
  },
  {
   "cell_type": "code",
   "execution_count": null,
   "id": "9105b134",
   "metadata": {},
   "outputs": [],
   "source": [
    "students_df"
   ]
  },
  {
   "cell_type": "code",
   "execution_count": null,
   "id": "060b9306",
   "metadata": {},
   "outputs": [],
   "source": [
    "students_df.columns"
   ]
  },
  {
   "cell_type": "markdown",
   "id": "c889d2ac",
   "metadata": {},
   "source": [
    "### Inserting/deleteing rows"
   ]
  },
  {
   "cell_type": "code",
   "execution_count": null,
   "id": "147de55f",
   "metadata": {},
   "outputs": [],
   "source": [
    "Ronald = pd.Series(data=['Ronald', 'Berlin', 34, 79],\n",
    "                 index=students_df.columns[0:4],name=21)"
   ]
  },
  {
   "cell_type": "code",
   "execution_count": null,
   "id": "e78cdf23",
   "metadata": {},
   "outputs": [],
   "source": [
    "Marcus = pd.Series(data=['Marcus', 'Berlin', 44, 75],\n",
    "                 index=students_df.columns[0:4])"
   ]
  },
  {
   "cell_type": "code",
   "execution_count": null,
   "id": "d1dc6c93",
   "metadata": {},
   "outputs": [],
   "source": [
    "students_df=students_df.append(Ronald)\n"
   ]
  },
  {
   "cell_type": "code",
   "execution_count": null,
   "id": "dd112093",
   "metadata": {},
   "outputs": [],
   "source": [
    "students_df"
   ]
  },
  {
   "cell_type": "code",
   "execution_count": null,
   "id": "1da073e1",
   "metadata": {},
   "outputs": [],
   "source": [
    "#print('df = df.drop(labels=[17])')\n",
    "students_df.drop(labels=[21],inplace=True)\n",
    "students_df"
   ]
  },
  {
   "cell_type": "code",
   "execution_count": 333,
   "id": "4ab21fb0",
   "metadata": {},
   "outputs": [
    {
     "data": {
      "text/plain": [
       "10    88.0\n",
       "11    90.0\n",
       "12    81.0\n",
       "13    80.0\n",
       "14    68.0\n",
       "15    61.0\n",
       "16    84.0\n",
       "Name: py-score, dtype: float64"
      ]
     },
     "execution_count": 333,
     "metadata": {},
     "output_type": "execute_result"
    }
   ],
   "source": [
    "students_df[\"py-score\"]"
   ]
  },
  {
   "cell_type": "markdown",
   "id": "c3e25a7e",
   "metadata": {},
   "source": [
    "### Inserting/Deleting columns"
   ]
  },
  {
   "cell_type": "code",
   "execution_count": 198,
   "id": "3a8e7ef2",
   "metadata": {},
   "outputs": [
    {
     "data": {
      "text/html": [
       "<div>\n",
       "<style scoped>\n",
       "    .dataframe tbody tr th:only-of-type {\n",
       "        vertical-align: middle;\n",
       "    }\n",
       "\n",
       "    .dataframe tbody tr th {\n",
       "        vertical-align: top;\n",
       "    }\n",
       "\n",
       "    .dataframe thead th {\n",
       "        text-align: right;\n",
       "    }\n",
       "</style>\n",
       "<table border=\"1\" class=\"dataframe\">\n",
       "  <thead>\n",
       "    <tr style=\"text-align: right;\">\n",
       "      <th></th>\n",
       "      <th>name</th>\n",
       "      <th>city</th>\n",
       "      <th>age</th>\n",
       "      <th>py-score</th>\n",
       "      <th>js-score</th>\n",
       "    </tr>\n",
       "  </thead>\n",
       "  <tbody>\n",
       "    <tr>\n",
       "      <th>101</th>\n",
       "      <td>Xavier</td>\n",
       "      <td>Mexico City</td>\n",
       "      <td>41</td>\n",
       "      <td>88.0</td>\n",
       "      <td>71.0</td>\n",
       "    </tr>\n",
       "    <tr>\n",
       "      <th>102</th>\n",
       "      <td>Ann</td>\n",
       "      <td>Toronto</td>\n",
       "      <td>28</td>\n",
       "      <td>79.0</td>\n",
       "      <td>95.0</td>\n",
       "    </tr>\n",
       "    <tr>\n",
       "      <th>103</th>\n",
       "      <td>Jana</td>\n",
       "      <td>Prague</td>\n",
       "      <td>33</td>\n",
       "      <td>81.0</td>\n",
       "      <td>88.0</td>\n",
       "    </tr>\n",
       "    <tr>\n",
       "      <th>104</th>\n",
       "      <td>Yi</td>\n",
       "      <td>Shanghai</td>\n",
       "      <td>34</td>\n",
       "      <td>80.0</td>\n",
       "      <td>79.0</td>\n",
       "    </tr>\n",
       "    <tr>\n",
       "      <th>105</th>\n",
       "      <td>Robin</td>\n",
       "      <td>Manchester</td>\n",
       "      <td>38</td>\n",
       "      <td>68.0</td>\n",
       "      <td>91.0</td>\n",
       "    </tr>\n",
       "    <tr>\n",
       "      <th>106</th>\n",
       "      <td>Amal</td>\n",
       "      <td>Cairo</td>\n",
       "      <td>31</td>\n",
       "      <td>61.0</td>\n",
       "      <td>91.0</td>\n",
       "    </tr>\n",
       "    <tr>\n",
       "      <th>107</th>\n",
       "      <td>Nori</td>\n",
       "      <td>Osaka</td>\n",
       "      <td>37</td>\n",
       "      <td>84.0</td>\n",
       "      <td>80.0</td>\n",
       "    </tr>\n",
       "  </tbody>\n",
       "</table>\n",
       "</div>"
      ],
      "text/plain": [
       "       name         city  age  py-score  js-score\n",
       "101  Xavier  Mexico City   41      88.0      71.0\n",
       "102     Ann      Toronto   28      79.0      95.0\n",
       "103    Jana       Prague   33      81.0      88.0\n",
       "104      Yi     Shanghai   34      80.0      79.0\n",
       "105   Robin   Manchester   38      68.0      91.0\n",
       "106    Amal        Cairo   31      61.0      91.0\n",
       "107    Nori        Osaka   37      84.0      80.0"
      ]
     },
     "execution_count": 198,
     "metadata": {},
     "output_type": "execute_result"
    }
   ],
   "source": [
    "#print('df[js-score] = np.array([71.0, 95.0, 88.0, 79.0, 91.0, 91.0, 80.0])')\n",
    "students_df['js-score'] =[71.0, 95.0, 88.0, 79.0, 91.0, 91.0, 80.0]\n",
    "students_df"
   ]
  },
  {
   "cell_type": "markdown",
   "id": "635b717f",
   "metadata": {},
   "source": [
    "### Inserting in a specific location"
   ]
  },
  {
   "cell_type": "code",
   "execution_count": 199,
   "id": "24dcfcc2",
   "metadata": {},
   "outputs": [
    {
     "data": {
      "text/html": [
       "<div>\n",
       "<style scoped>\n",
       "    .dataframe tbody tr th:only-of-type {\n",
       "        vertical-align: middle;\n",
       "    }\n",
       "\n",
       "    .dataframe tbody tr th {\n",
       "        vertical-align: top;\n",
       "    }\n",
       "\n",
       "    .dataframe thead th {\n",
       "        text-align: right;\n",
       "    }\n",
       "</style>\n",
       "<table border=\"1\" class=\"dataframe\">\n",
       "  <thead>\n",
       "    <tr style=\"text-align: right;\">\n",
       "      <th></th>\n",
       "      <th>name</th>\n",
       "      <th>city</th>\n",
       "      <th>age</th>\n",
       "      <th>py-score</th>\n",
       "      <th>django-score</th>\n",
       "      <th>js-score</th>\n",
       "    </tr>\n",
       "  </thead>\n",
       "  <tbody>\n",
       "    <tr>\n",
       "      <th>101</th>\n",
       "      <td>Xavier</td>\n",
       "      <td>Mexico City</td>\n",
       "      <td>41</td>\n",
       "      <td>88.0</td>\n",
       "      <td>70.0</td>\n",
       "      <td>71.0</td>\n",
       "    </tr>\n",
       "    <tr>\n",
       "      <th>102</th>\n",
       "      <td>Ann</td>\n",
       "      <td>Toronto</td>\n",
       "      <td>28</td>\n",
       "      <td>79.0</td>\n",
       "      <td>74.0</td>\n",
       "      <td>95.0</td>\n",
       "    </tr>\n",
       "    <tr>\n",
       "      <th>103</th>\n",
       "      <td>Jana</td>\n",
       "      <td>Prague</td>\n",
       "      <td>33</td>\n",
       "      <td>81.0</td>\n",
       "      <td>78.0</td>\n",
       "      <td>88.0</td>\n",
       "    </tr>\n",
       "    <tr>\n",
       "      <th>104</th>\n",
       "      <td>Yi</td>\n",
       "      <td>Shanghai</td>\n",
       "      <td>34</td>\n",
       "      <td>80.0</td>\n",
       "      <td>56.0</td>\n",
       "      <td>79.0</td>\n",
       "    </tr>\n",
       "    <tr>\n",
       "      <th>105</th>\n",
       "      <td>Robin</td>\n",
       "      <td>Manchester</td>\n",
       "      <td>38</td>\n",
       "      <td>68.0</td>\n",
       "      <td>66.0</td>\n",
       "      <td>91.0</td>\n",
       "    </tr>\n",
       "    <tr>\n",
       "      <th>106</th>\n",
       "      <td>Amal</td>\n",
       "      <td>Cairo</td>\n",
       "      <td>31</td>\n",
       "      <td>61.0</td>\n",
       "      <td>78.0</td>\n",
       "      <td>91.0</td>\n",
       "    </tr>\n",
       "    <tr>\n",
       "      <th>107</th>\n",
       "      <td>Nori</td>\n",
       "      <td>Osaka</td>\n",
       "      <td>37</td>\n",
       "      <td>84.0</td>\n",
       "      <td>81.0</td>\n",
       "      <td>80.0</td>\n",
       "    </tr>\n",
       "  </tbody>\n",
       "</table>\n",
       "</div>"
      ],
      "text/plain": [
       "       name         city  age  py-score  django-score  js-score\n",
       "101  Xavier  Mexico City   41      88.0          70.0      71.0\n",
       "102     Ann      Toronto   28      79.0          74.0      95.0\n",
       "103    Jana       Prague   33      81.0          78.0      88.0\n",
       "104      Yi     Shanghai   34      80.0          56.0      79.0\n",
       "105   Robin   Manchester   38      68.0          66.0      91.0\n",
       "106    Amal        Cairo   31      61.0          78.0      91.0\n",
       "107    Nori        Osaka   37      84.0          81.0      80.0"
      ]
     },
     "execution_count": 199,
     "metadata": {},
     "output_type": "execute_result"
    }
   ],
   "source": [
    "#print('df.insert(loc=4, column=js-score,value=np.array([86.0, 81.0, 78.0, 88.0, 74.0, 70.0, 81.0]))')\n",
    "students_df.insert(loc=4, column='django-score',\n",
    "          value=np.array([70, 74, 78, 56, 66, 78, 81.0]))\n",
    "students_df"
   ]
  },
  {
   "cell_type": "markdown",
   "id": "0f3bc1ae",
   "metadata": {},
   "source": [
    "### dropping specific column"
   ]
  },
  {
   "cell_type": "code",
   "execution_count": 200,
   "id": "9b607123",
   "metadata": {},
   "outputs": [
    {
     "name": "stdout",
     "output_type": "stream",
     "text": [
      "df = df.drop(labels=age, axis=1)\n"
     ]
    }
   ],
   "source": [
    "print('df = df.drop(labels=age, axis=1)')\n",
    "## axis= 0 dropping by row,  axis=1. ropping by column\n",
    "students_df = students_df.drop(labels=['django-score'], axis=1)"
   ]
  },
  {
   "cell_type": "code",
   "execution_count": 201,
   "id": "cde0c01c",
   "metadata": {},
   "outputs": [
    {
     "data": {
      "text/html": [
       "<div>\n",
       "<style scoped>\n",
       "    .dataframe tbody tr th:only-of-type {\n",
       "        vertical-align: middle;\n",
       "    }\n",
       "\n",
       "    .dataframe tbody tr th {\n",
       "        vertical-align: top;\n",
       "    }\n",
       "\n",
       "    .dataframe thead th {\n",
       "        text-align: right;\n",
       "    }\n",
       "</style>\n",
       "<table border=\"1\" class=\"dataframe\">\n",
       "  <thead>\n",
       "    <tr style=\"text-align: right;\">\n",
       "      <th></th>\n",
       "      <th>name</th>\n",
       "      <th>city</th>\n",
       "      <th>age</th>\n",
       "      <th>py-score</th>\n",
       "      <th>js-score</th>\n",
       "    </tr>\n",
       "  </thead>\n",
       "  <tbody>\n",
       "    <tr>\n",
       "      <th>101</th>\n",
       "      <td>Xavier</td>\n",
       "      <td>Mexico City</td>\n",
       "      <td>41</td>\n",
       "      <td>88.0</td>\n",
       "      <td>71.0</td>\n",
       "    </tr>\n",
       "    <tr>\n",
       "      <th>102</th>\n",
       "      <td>Ann</td>\n",
       "      <td>Toronto</td>\n",
       "      <td>28</td>\n",
       "      <td>79.0</td>\n",
       "      <td>95.0</td>\n",
       "    </tr>\n",
       "    <tr>\n",
       "      <th>103</th>\n",
       "      <td>Jana</td>\n",
       "      <td>Prague</td>\n",
       "      <td>33</td>\n",
       "      <td>81.0</td>\n",
       "      <td>88.0</td>\n",
       "    </tr>\n",
       "    <tr>\n",
       "      <th>104</th>\n",
       "      <td>Yi</td>\n",
       "      <td>Shanghai</td>\n",
       "      <td>34</td>\n",
       "      <td>80.0</td>\n",
       "      <td>79.0</td>\n",
       "    </tr>\n",
       "    <tr>\n",
       "      <th>105</th>\n",
       "      <td>Robin</td>\n",
       "      <td>Manchester</td>\n",
       "      <td>38</td>\n",
       "      <td>68.0</td>\n",
       "      <td>91.0</td>\n",
       "    </tr>\n",
       "    <tr>\n",
       "      <th>106</th>\n",
       "      <td>Amal</td>\n",
       "      <td>Cairo</td>\n",
       "      <td>31</td>\n",
       "      <td>61.0</td>\n",
       "      <td>91.0</td>\n",
       "    </tr>\n",
       "    <tr>\n",
       "      <th>107</th>\n",
       "      <td>Nori</td>\n",
       "      <td>Osaka</td>\n",
       "      <td>37</td>\n",
       "      <td>84.0</td>\n",
       "      <td>80.0</td>\n",
       "    </tr>\n",
       "  </tbody>\n",
       "</table>\n",
       "</div>"
      ],
      "text/plain": [
       "       name         city  age  py-score  js-score\n",
       "101  Xavier  Mexico City   41      88.0      71.0\n",
       "102     Ann      Toronto   28      79.0      95.0\n",
       "103    Jana       Prague   33      81.0      88.0\n",
       "104      Yi     Shanghai   34      80.0      79.0\n",
       "105   Robin   Manchester   38      68.0      91.0\n",
       "106    Amal        Cairo   31      61.0      91.0\n",
       "107    Nori        Osaka   37      84.0      80.0"
      ]
     },
     "execution_count": 201,
     "metadata": {},
     "output_type": "execute_result"
    }
   ],
   "source": [
    "students_df"
   ]
  },
  {
   "cell_type": "markdown",
   "id": "7a6bd907",
   "metadata": {},
   "source": [
    "### Filtering/Boolean Indexing"
   ]
  },
  {
   "cell_type": "code",
   "execution_count": 342,
   "id": "6390c8b3",
   "metadata": {},
   "outputs": [
    {
     "data": {
      "text/plain": [
       "10    True\n",
       "11    True\n",
       "12    True\n",
       "13    True\n",
       "14    True\n",
       "15    True\n",
       "16    True\n",
       "Name: py-score, dtype: bool"
      ]
     },
     "execution_count": 342,
     "metadata": {},
     "output_type": "execute_result"
    }
   ],
   "source": [
    "#print('filter_ = df[django-score] >= 80')\n",
    "very_good_students_filter = students_df['py-score'] >= 50\n",
    "very_good_students_filter"
   ]
  },
  {
   "cell_type": "code",
   "execution_count": 205,
   "id": "dbb07262",
   "metadata": {},
   "outputs": [
    {
     "data": {
      "text/html": [
       "<div>\n",
       "<style scoped>\n",
       "    .dataframe tbody tr th:only-of-type {\n",
       "        vertical-align: middle;\n",
       "    }\n",
       "\n",
       "    .dataframe tbody tr th {\n",
       "        vertical-align: top;\n",
       "    }\n",
       "\n",
       "    .dataframe thead th {\n",
       "        text-align: right;\n",
       "    }\n",
       "</style>\n",
       "<table border=\"1\" class=\"dataframe\">\n",
       "  <thead>\n",
       "    <tr style=\"text-align: right;\">\n",
       "      <th></th>\n",
       "      <th>name</th>\n",
       "      <th>city</th>\n",
       "      <th>age</th>\n",
       "      <th>py-score</th>\n",
       "      <th>js-score</th>\n",
       "    </tr>\n",
       "  </thead>\n",
       "  <tbody>\n",
       "    <tr>\n",
       "      <th>101</th>\n",
       "      <td>Xavier</td>\n",
       "      <td>Mexico City</td>\n",
       "      <td>41</td>\n",
       "      <td>88.0</td>\n",
       "      <td>71.0</td>\n",
       "    </tr>\n",
       "    <tr>\n",
       "      <th>103</th>\n",
       "      <td>Jana</td>\n",
       "      <td>Prague</td>\n",
       "      <td>33</td>\n",
       "      <td>81.0</td>\n",
       "      <td>88.0</td>\n",
       "    </tr>\n",
       "    <tr>\n",
       "      <th>104</th>\n",
       "      <td>Yi</td>\n",
       "      <td>Shanghai</td>\n",
       "      <td>34</td>\n",
       "      <td>80.0</td>\n",
       "      <td>79.0</td>\n",
       "    </tr>\n",
       "    <tr>\n",
       "      <th>107</th>\n",
       "      <td>Nori</td>\n",
       "      <td>Osaka</td>\n",
       "      <td>37</td>\n",
       "      <td>84.0</td>\n",
       "      <td>80.0</td>\n",
       "    </tr>\n",
       "  </tbody>\n",
       "</table>\n",
       "</div>"
      ],
      "text/plain": [
       "       name         city  age  py-score  js-score\n",
       "101  Xavier  Mexico City   41      88.0      71.0\n",
       "103    Jana       Prague   33      81.0      88.0\n",
       "104      Yi     Shanghai   34      80.0      79.0\n",
       "107    Nori        Osaka   37      84.0      80.0"
      ]
     },
     "execution_count": 205,
     "metadata": {},
     "output_type": "execute_result"
    }
   ],
   "source": [
    "students_df[students_df[\"py-score\"]>=80]"
   ]
  },
  {
   "cell_type": "code",
   "execution_count": 206,
   "id": "2d386053",
   "metadata": {},
   "outputs": [],
   "source": [
    "students_df[\"js-score-updated\"]= students_df[\"js-score\"] + students_df[\"py-score\"]  +5"
   ]
  },
  {
   "cell_type": "code",
   "execution_count": 207,
   "id": "bdc2336c",
   "metadata": {},
   "outputs": [
    {
     "data": {
      "text/html": [
       "<div>\n",
       "<style scoped>\n",
       "    .dataframe tbody tr th:only-of-type {\n",
       "        vertical-align: middle;\n",
       "    }\n",
       "\n",
       "    .dataframe tbody tr th {\n",
       "        vertical-align: top;\n",
       "    }\n",
       "\n",
       "    .dataframe thead th {\n",
       "        text-align: right;\n",
       "    }\n",
       "</style>\n",
       "<table border=\"1\" class=\"dataframe\">\n",
       "  <thead>\n",
       "    <tr style=\"text-align: right;\">\n",
       "      <th></th>\n",
       "      <th>name</th>\n",
       "      <th>city</th>\n",
       "      <th>age</th>\n",
       "      <th>py-score</th>\n",
       "      <th>js-score</th>\n",
       "      <th>js-score-updated</th>\n",
       "    </tr>\n",
       "  </thead>\n",
       "  <tbody>\n",
       "    <tr>\n",
       "      <th>101</th>\n",
       "      <td>Xavier</td>\n",
       "      <td>Mexico City</td>\n",
       "      <td>41</td>\n",
       "      <td>88.0</td>\n",
       "      <td>71.0</td>\n",
       "      <td>164.0</td>\n",
       "    </tr>\n",
       "    <tr>\n",
       "      <th>102</th>\n",
       "      <td>Ann</td>\n",
       "      <td>Toronto</td>\n",
       "      <td>28</td>\n",
       "      <td>79.0</td>\n",
       "      <td>95.0</td>\n",
       "      <td>179.0</td>\n",
       "    </tr>\n",
       "    <tr>\n",
       "      <th>103</th>\n",
       "      <td>Jana</td>\n",
       "      <td>Prague</td>\n",
       "      <td>33</td>\n",
       "      <td>81.0</td>\n",
       "      <td>88.0</td>\n",
       "      <td>174.0</td>\n",
       "    </tr>\n",
       "    <tr>\n",
       "      <th>104</th>\n",
       "      <td>Yi</td>\n",
       "      <td>Shanghai</td>\n",
       "      <td>34</td>\n",
       "      <td>80.0</td>\n",
       "      <td>79.0</td>\n",
       "      <td>164.0</td>\n",
       "    </tr>\n",
       "    <tr>\n",
       "      <th>105</th>\n",
       "      <td>Robin</td>\n",
       "      <td>Manchester</td>\n",
       "      <td>38</td>\n",
       "      <td>68.0</td>\n",
       "      <td>91.0</td>\n",
       "      <td>164.0</td>\n",
       "    </tr>\n",
       "    <tr>\n",
       "      <th>106</th>\n",
       "      <td>Amal</td>\n",
       "      <td>Cairo</td>\n",
       "      <td>31</td>\n",
       "      <td>61.0</td>\n",
       "      <td>91.0</td>\n",
       "      <td>157.0</td>\n",
       "    </tr>\n",
       "    <tr>\n",
       "      <th>107</th>\n",
       "      <td>Nori</td>\n",
       "      <td>Osaka</td>\n",
       "      <td>37</td>\n",
       "      <td>84.0</td>\n",
       "      <td>80.0</td>\n",
       "      <td>169.0</td>\n",
       "    </tr>\n",
       "  </tbody>\n",
       "</table>\n",
       "</div>"
      ],
      "text/plain": [
       "       name         city  age  py-score  js-score  js-score-updated\n",
       "101  Xavier  Mexico City   41      88.0      71.0             164.0\n",
       "102     Ann      Toronto   28      79.0      95.0             179.0\n",
       "103    Jana       Prague   33      81.0      88.0             174.0\n",
       "104      Yi     Shanghai   34      80.0      79.0             164.0\n",
       "105   Robin   Manchester   38      68.0      91.0             164.0\n",
       "106    Amal        Cairo   31      61.0      91.0             157.0\n",
       "107    Nori        Osaka   37      84.0      80.0             169.0"
      ]
     },
     "execution_count": 207,
     "metadata": {},
     "output_type": "execute_result"
    }
   ],
   "source": [
    "students_df"
   ]
  },
  {
   "cell_type": "code",
   "execution_count": 208,
   "id": "1ea184af",
   "metadata": {},
   "outputs": [
    {
     "data": {
      "text/plain": [
       "101     True\n",
       "102    False\n",
       "103    False\n",
       "104    False\n",
       "105    False\n",
       "106    False\n",
       "107    False\n",
       "Name: age, dtype: bool"
      ]
     },
     "execution_count": 208,
     "metadata": {},
     "output_type": "execute_result"
    }
   ],
   "source": [
    "students_df.age>40"
   ]
  },
  {
   "cell_type": "code",
   "execution_count": 349,
   "id": "000976c0",
   "metadata": {},
   "outputs": [
    {
     "data": {
      "text/html": [
       "<div>\n",
       "<style scoped>\n",
       "    .dataframe tbody tr th:only-of-type {\n",
       "        vertical-align: middle;\n",
       "    }\n",
       "\n",
       "    .dataframe tbody tr th {\n",
       "        vertical-align: top;\n",
       "    }\n",
       "\n",
       "    .dataframe thead th {\n",
       "        text-align: right;\n",
       "    }\n",
       "</style>\n",
       "<table border=\"1\" class=\"dataframe\">\n",
       "  <thead>\n",
       "    <tr style=\"text-align: right;\">\n",
       "      <th></th>\n",
       "      <th>name</th>\n",
       "      <th>city</th>\n",
       "      <th>age</th>\n",
       "      <th>py-score</th>\n",
       "      <th>js-score</th>\n",
       "      <th>js-score-updated</th>\n",
       "    </tr>\n",
       "  </thead>\n",
       "  <tbody>\n",
       "    <tr>\n",
       "      <th>10</th>\n",
       "      <td>Xavier</td>\n",
       "      <td>Mexico City</td>\n",
       "      <td>41</td>\n",
       "      <td>88.0</td>\n",
       "      <td>71.0</td>\n",
       "      <td>76.0</td>\n",
       "    </tr>\n",
       "  </tbody>\n",
       "</table>\n",
       "</div>"
      ],
      "text/plain": [
       "      name         city  age  py-score  js-score  js-score-updated\n",
       "10  Xavier  Mexico City   41      88.0      71.0              76.0"
      ]
     },
     "execution_count": 349,
     "metadata": {},
     "output_type": "execute_result"
    }
   ],
   "source": [
    "students_df[students_df.age>40]"
   ]
  },
  {
   "cell_type": "code",
   "execution_count": 351,
   "id": "6d9dfe67",
   "metadata": {},
   "outputs": [
    {
     "name": "stdout",
     "output_type": "stream",
     "text": [
      "df[filter_]\n"
     ]
    },
    {
     "data": {
      "text/html": [
       "<div>\n",
       "<style scoped>\n",
       "    .dataframe tbody tr th:only-of-type {\n",
       "        vertical-align: middle;\n",
       "    }\n",
       "\n",
       "    .dataframe tbody tr th {\n",
       "        vertical-align: top;\n",
       "    }\n",
       "\n",
       "    .dataframe thead th {\n",
       "        text-align: right;\n",
       "    }\n",
       "</style>\n",
       "<table border=\"1\" class=\"dataframe\">\n",
       "  <thead>\n",
       "    <tr style=\"text-align: right;\">\n",
       "      <th></th>\n",
       "      <th>name</th>\n",
       "      <th>city</th>\n",
       "      <th>age</th>\n",
       "      <th>py-score</th>\n",
       "      <th>js-score</th>\n",
       "      <th>js-score-updated</th>\n",
       "    </tr>\n",
       "  </thead>\n",
       "  <tbody>\n",
       "    <tr>\n",
       "      <th>10</th>\n",
       "      <td>Xavier</td>\n",
       "      <td>Mexico City</td>\n",
       "      <td>41</td>\n",
       "      <td>88.0</td>\n",
       "      <td>71.0</td>\n",
       "      <td>76.0</td>\n",
       "    </tr>\n",
       "    <tr>\n",
       "      <th>11</th>\n",
       "      <td>Ann</td>\n",
       "      <td>Toronto</td>\n",
       "      <td>28</td>\n",
       "      <td>90.0</td>\n",
       "      <td>95.0</td>\n",
       "      <td>100.0</td>\n",
       "    </tr>\n",
       "    <tr>\n",
       "      <th>12</th>\n",
       "      <td>Jana</td>\n",
       "      <td>Prague</td>\n",
       "      <td>33</td>\n",
       "      <td>81.0</td>\n",
       "      <td>88.0</td>\n",
       "      <td>93.0</td>\n",
       "    </tr>\n",
       "    <tr>\n",
       "      <th>13</th>\n",
       "      <td>Yi</td>\n",
       "      <td>Shanghai</td>\n",
       "      <td>34</td>\n",
       "      <td>80.0</td>\n",
       "      <td>79.0</td>\n",
       "      <td>84.0</td>\n",
       "    </tr>\n",
       "    <tr>\n",
       "      <th>14</th>\n",
       "      <td>Robin</td>\n",
       "      <td>Manchester</td>\n",
       "      <td>38</td>\n",
       "      <td>68.0</td>\n",
       "      <td>91.0</td>\n",
       "      <td>96.0</td>\n",
       "    </tr>\n",
       "    <tr>\n",
       "      <th>15</th>\n",
       "      <td>Amal</td>\n",
       "      <td>Cairo</td>\n",
       "      <td>31</td>\n",
       "      <td>61.0</td>\n",
       "      <td>91.0</td>\n",
       "      <td>96.0</td>\n",
       "    </tr>\n",
       "    <tr>\n",
       "      <th>16</th>\n",
       "      <td>Nori</td>\n",
       "      <td>Osaka</td>\n",
       "      <td>37</td>\n",
       "      <td>84.0</td>\n",
       "      <td>80.0</td>\n",
       "      <td>85.0</td>\n",
       "    </tr>\n",
       "  </tbody>\n",
       "</table>\n",
       "</div>"
      ],
      "text/plain": [
       "      name         city  age  py-score  js-score  js-score-updated\n",
       "10  Xavier  Mexico City   41      88.0      71.0              76.0\n",
       "11     Ann      Toronto   28      90.0      95.0             100.0\n",
       "12    Jana       Prague   33      81.0      88.0              93.0\n",
       "13      Yi     Shanghai   34      80.0      79.0              84.0\n",
       "14   Robin   Manchester   38      68.0      91.0              96.0\n",
       "15    Amal        Cairo   31      61.0      91.0              96.0\n",
       "16    Nori        Osaka   37      84.0      80.0              85.0"
      ]
     },
     "execution_count": 351,
     "metadata": {},
     "output_type": "execute_result"
    }
   ],
   "source": [
    "print('df[filter_]')\n",
    "students_df[very_good_students_filter]"
   ]
  },
  {
   "cell_type": "markdown",
   "id": "d558b5e9",
   "metadata": {},
   "source": [
    "### Creating powerful filters with Logical operators AND, OR, NOT, XOR"
   ]
  },
  {
   "cell_type": "code",
   "execution_count": 352,
   "id": "a7550f9f",
   "metadata": {},
   "outputs": [
    {
     "data": {
      "text/html": [
       "<div>\n",
       "<style scoped>\n",
       "    .dataframe tbody tr th:only-of-type {\n",
       "        vertical-align: middle;\n",
       "    }\n",
       "\n",
       "    .dataframe tbody tr th {\n",
       "        vertical-align: top;\n",
       "    }\n",
       "\n",
       "    .dataframe thead th {\n",
       "        text-align: right;\n",
       "    }\n",
       "</style>\n",
       "<table border=\"1\" class=\"dataframe\">\n",
       "  <thead>\n",
       "    <tr style=\"text-align: right;\">\n",
       "      <th></th>\n",
       "      <th>name</th>\n",
       "      <th>city</th>\n",
       "      <th>age</th>\n",
       "      <th>py-score</th>\n",
       "      <th>js-score</th>\n",
       "      <th>js-score-updated</th>\n",
       "    </tr>\n",
       "  </thead>\n",
       "  <tbody>\n",
       "    <tr>\n",
       "      <th>11</th>\n",
       "      <td>Ann</td>\n",
       "      <td>Toronto</td>\n",
       "      <td>28</td>\n",
       "      <td>90.0</td>\n",
       "      <td>95.0</td>\n",
       "      <td>100.0</td>\n",
       "    </tr>\n",
       "    <tr>\n",
       "      <th>12</th>\n",
       "      <td>Jana</td>\n",
       "      <td>Prague</td>\n",
       "      <td>33</td>\n",
       "      <td>81.0</td>\n",
       "      <td>88.0</td>\n",
       "      <td>93.0</td>\n",
       "    </tr>\n",
       "    <tr>\n",
       "      <th>14</th>\n",
       "      <td>Robin</td>\n",
       "      <td>Manchester</td>\n",
       "      <td>38</td>\n",
       "      <td>68.0</td>\n",
       "      <td>91.0</td>\n",
       "      <td>96.0</td>\n",
       "    </tr>\n",
       "    <tr>\n",
       "      <th>15</th>\n",
       "      <td>Amal</td>\n",
       "      <td>Cairo</td>\n",
       "      <td>31</td>\n",
       "      <td>61.0</td>\n",
       "      <td>91.0</td>\n",
       "      <td>96.0</td>\n",
       "    </tr>\n",
       "    <tr>\n",
       "      <th>16</th>\n",
       "      <td>Nori</td>\n",
       "      <td>Osaka</td>\n",
       "      <td>37</td>\n",
       "      <td>84.0</td>\n",
       "      <td>80.0</td>\n",
       "      <td>85.0</td>\n",
       "    </tr>\n",
       "  </tbody>\n",
       "</table>\n",
       "</div>"
      ],
      "text/plain": [
       "     name        city  age  py-score  js-score  js-score-updated\n",
       "11    Ann     Toronto   28      90.0      95.0             100.0\n",
       "12   Jana      Prague   33      81.0      88.0              93.0\n",
       "14  Robin  Manchester   38      68.0      91.0              96.0\n",
       "15   Amal       Cairo   31      61.0      91.0              96.0\n",
       "16   Nori       Osaka   37      84.0      80.0              85.0"
      ]
     },
     "execution_count": 352,
     "metadata": {},
     "output_type": "execute_result"
    }
   ],
   "source": [
    "#print('df[(df[py-score] >= 80) & (df[js-score] >= 80)]')\n",
    "students_df[(students_df['py-score'] >= 40) & (students_df['js-score'] >= 80)]"
   ]
  },
  {
   "cell_type": "markdown",
   "id": "8e0ee04b",
   "metadata": {},
   "source": [
    "### Working with Missing Data"
   ]
  },
  {
   "cell_type": "markdown",
   "id": "239b4c30",
   "metadata": {},
   "source": [
    "### np.nan is used to represent missing values"
   ]
  },
  {
   "cell_type": "code",
   "execution_count": 210,
   "id": "8a8f29d1",
   "metadata": {},
   "outputs": [
    {
     "name": "stdout",
     "output_type": "stream",
     "text": [
      "df_ = pd.DataFrame({'x': [1, 2, np.nan, 4]})\n"
     ]
    },
    {
     "data": {
      "text/html": [
       "<div>\n",
       "<style scoped>\n",
       "    .dataframe tbody tr th:only-of-type {\n",
       "        vertical-align: middle;\n",
       "    }\n",
       "\n",
       "    .dataframe tbody tr th {\n",
       "        vertical-align: top;\n",
       "    }\n",
       "\n",
       "    .dataframe thead th {\n",
       "        text-align: right;\n",
       "    }\n",
       "</style>\n",
       "<table border=\"1\" class=\"dataframe\">\n",
       "  <thead>\n",
       "    <tr style=\"text-align: right;\">\n",
       "      <th></th>\n",
       "      <th>x</th>\n",
       "    </tr>\n",
       "  </thead>\n",
       "  <tbody>\n",
       "    <tr>\n",
       "      <th>0</th>\n",
       "      <td>1.0</td>\n",
       "    </tr>\n",
       "    <tr>\n",
       "      <th>1</th>\n",
       "      <td>2.0</td>\n",
       "    </tr>\n",
       "    <tr>\n",
       "      <th>2</th>\n",
       "      <td>NaN</td>\n",
       "    </tr>\n",
       "    <tr>\n",
       "      <th>3</th>\n",
       "      <td>4.0</td>\n",
       "    </tr>\n",
       "  </tbody>\n",
       "</table>\n",
       "</div>"
      ],
      "text/plain": [
       "     x\n",
       "0  1.0\n",
       "1  2.0\n",
       "2  NaN\n",
       "3  4.0"
      ]
     },
     "execution_count": 210,
     "metadata": {},
     "output_type": "execute_result"
    }
   ],
   "source": [
    "print(\"df_ = pd.DataFrame({'x': [1, 2, np.nan, 4]})\")\n",
    "df_ = pd.DataFrame({'x': [1, 2, np.nan, 4]})\n",
    "df_\n"
   ]
  },
  {
   "cell_type": "code",
   "execution_count": 211,
   "id": "f6630a9e",
   "metadata": {},
   "outputs": [
    {
     "data": {
      "text/html": [
       "<div>\n",
       "<style scoped>\n",
       "    .dataframe tbody tr th:only-of-type {\n",
       "        vertical-align: middle;\n",
       "    }\n",
       "\n",
       "    .dataframe tbody tr th {\n",
       "        vertical-align: top;\n",
       "    }\n",
       "\n",
       "    .dataframe thead th {\n",
       "        text-align: right;\n",
       "    }\n",
       "</style>\n",
       "<table border=\"1\" class=\"dataframe\">\n",
       "  <thead>\n",
       "    <tr style=\"text-align: right;\">\n",
       "      <th></th>\n",
       "      <th>x</th>\n",
       "      <th>y</th>\n",
       "    </tr>\n",
       "  </thead>\n",
       "  <tbody>\n",
       "    <tr>\n",
       "      <th>0</th>\n",
       "      <td>1.0</td>\n",
       "      <td>2.0</td>\n",
       "    </tr>\n",
       "    <tr>\n",
       "      <th>1</th>\n",
       "      <td>2.0</td>\n",
       "      <td>NaN</td>\n",
       "    </tr>\n",
       "    <tr>\n",
       "      <th>2</th>\n",
       "      <td>NaN</td>\n",
       "      <td>4.0</td>\n",
       "    </tr>\n",
       "    <tr>\n",
       "      <th>3</th>\n",
       "      <td>4.0</td>\n",
       "      <td>5.0</td>\n",
       "    </tr>\n",
       "  </tbody>\n",
       "</table>\n",
       "</div>"
      ],
      "text/plain": [
       "     x    y\n",
       "0  1.0  2.0\n",
       "1  2.0  NaN\n",
       "2  NaN  4.0\n",
       "3  4.0  5.0"
      ]
     },
     "execution_count": 211,
     "metadata": {},
     "output_type": "execute_result"
    }
   ],
   "source": [
    "df_[\"y\"]=[2,np.nan,4,5]\n",
    "df_"
   ]
  },
  {
   "cell_type": "markdown",
   "id": "39c7e434",
   "metadata": {},
   "source": [
    "### Dropping rows that contains missing values "
   ]
  },
  {
   "cell_type": "code",
   "execution_count": 235,
   "id": "b2012401",
   "metadata": {},
   "outputs": [
    {
     "data": {
      "text/html": [
       "<div>\n",
       "<style scoped>\n",
       "    .dataframe tbody tr th:only-of-type {\n",
       "        vertical-align: middle;\n",
       "    }\n",
       "\n",
       "    .dataframe tbody tr th {\n",
       "        vertical-align: top;\n",
       "    }\n",
       "\n",
       "    .dataframe thead th {\n",
       "        text-align: right;\n",
       "    }\n",
       "</style>\n",
       "<table border=\"1\" class=\"dataframe\">\n",
       "  <thead>\n",
       "    <tr style=\"text-align: right;\">\n",
       "      <th></th>\n",
       "      <th>x</th>\n",
       "    </tr>\n",
       "  </thead>\n",
       "  <tbody>\n",
       "  </tbody>\n",
       "</table>\n",
       "</div>"
      ],
      "text/plain": [
       "Empty DataFrame\n",
       "Columns: [x]\n",
       "Index: []"
      ]
     },
     "execution_count": 235,
     "metadata": {},
     "output_type": "execute_result"
    }
   ],
   "source": [
    "#print(\"df_.dropna()\")\n",
    "df_.dropna()"
   ]
  },
  {
   "cell_type": "markdown",
   "id": "08c2ae46",
   "metadata": {},
   "source": [
    "### and you can fill the missing values with fillna.."
   ]
  },
  {
   "cell_type": "code",
   "execution_count": 219,
   "id": "56dd0c4f",
   "metadata": {},
   "outputs": [
    {
     "name": "stdout",
     "output_type": "stream",
     "text": [
      "df_.fillna(value=0)\n",
      "      x\n",
      "0  1.0\n",
      "1  2.0\n",
      "2  0.0\n",
      "3  0.0\n",
      "\n",
      "df_.fillna(method=ffill)\n",
      "      x\n",
      "0  1.0\n",
      "1  2.0\n",
      "2  2.0\n",
      "3  2.0\n",
      "\n",
      "df_.fillna(method=bfill)\n",
      "      x\n",
      "0  1.0\n",
      "1  2.0\n",
      "2  NaN\n",
      "3  NaN\n"
     ]
    }
   ],
   "source": [
    "df_ = pd.DataFrame({'x': [1, 2, np.nan, np.nan]})\n",
    "print('df_.fillna(value=0)\\n',df_.fillna(value=0))\n",
    "print(\"\\ndf_.fillna(method=ffill)\\n\",df_.fillna(method='ffill'))\n",
    "print(\"\\ndf_.fillna(method=bfill)\\n\",df_.fillna(method='bfill'))"
   ]
  },
  {
   "cell_type": "code",
   "execution_count": 223,
   "id": "7b2274e2",
   "metadata": {},
   "outputs": [
    {
     "data": {
      "text/html": [
       "<div>\n",
       "<style scoped>\n",
       "    .dataframe tbody tr th:only-of-type {\n",
       "        vertical-align: middle;\n",
       "    }\n",
       "\n",
       "    .dataframe tbody tr th {\n",
       "        vertical-align: top;\n",
       "    }\n",
       "\n",
       "    .dataframe thead th {\n",
       "        text-align: right;\n",
       "    }\n",
       "</style>\n",
       "<table border=\"1\" class=\"dataframe\">\n",
       "  <thead>\n",
       "    <tr style=\"text-align: right;\">\n",
       "      <th></th>\n",
       "      <th>name</th>\n",
       "      <th>age</th>\n",
       "      <th>country</th>\n",
       "    </tr>\n",
       "  </thead>\n",
       "  <tbody>\n",
       "    <tr>\n",
       "      <th>0</th>\n",
       "      <td>Pol</td>\n",
       "      <td>22</td>\n",
       "      <td>ES</td>\n",
       "    </tr>\n",
       "    <tr>\n",
       "      <th>1</th>\n",
       "      <td>Javi</td>\n",
       "      <td>20</td>\n",
       "      <td>ES</td>\n",
       "    </tr>\n",
       "    <tr>\n",
       "      <th>2</th>\n",
       "      <td>Maria</td>\n",
       "      <td>23</td>\n",
       "      <td>AR</td>\n",
       "    </tr>\n",
       "    <tr>\n",
       "      <th>3</th>\n",
       "      <td>Anna</td>\n",
       "      <td>24</td>\n",
       "      <td>FR</td>\n",
       "    </tr>\n",
       "    <tr>\n",
       "      <th>4</th>\n",
       "      <td>Anna</td>\n",
       "      <td>24</td>\n",
       "      <td>UK</td>\n",
       "    </tr>\n",
       "    <tr>\n",
       "      <th>5</th>\n",
       "      <td>Javi</td>\n",
       "      <td>30</td>\n",
       "      <td>MA</td>\n",
       "    </tr>\n",
       "    <tr>\n",
       "      <th>6</th>\n",
       "      <td>Dog</td>\n",
       "      <td>2</td>\n",
       "      <td>XX</td>\n",
       "    </tr>\n",
       "  </tbody>\n",
       "</table>\n",
       "</div>"
      ],
      "text/plain": [
       "    name  age country\n",
       "0    Pol   22      ES\n",
       "1   Javi   20      ES\n",
       "2  Maria   23      AR\n",
       "3   Anna   24      FR\n",
       "4   Anna   24      UK\n",
       "5   Javi   30      MA\n",
       "6    Dog    2      XX"
      ]
     },
     "execution_count": 223,
     "metadata": {},
     "output_type": "execute_result"
    }
   ],
   "source": [
    "people_df"
   ]
  },
  {
   "cell_type": "markdown",
   "id": "0121daab",
   "metadata": {},
   "source": [
    "## Value_counts()  , describe()"
   ]
  },
  {
   "cell_type": "code",
   "execution_count": 222,
   "id": "e3ae5e63",
   "metadata": {},
   "outputs": [
    {
     "data": {
      "text/plain": [
       "Javi     2\n",
       "Anna     2\n",
       "Pol      1\n",
       "Maria    1\n",
       "Dog      1\n",
       "Name: name, dtype: int64"
      ]
     },
     "execution_count": 222,
     "metadata": {},
     "output_type": "execute_result"
    }
   ],
   "source": [
    "people_df.name.value_counts()"
   ]
  },
  {
   "cell_type": "code",
   "execution_count": null,
   "id": "7be4531f",
   "metadata": {},
   "outputs": [],
   "source": []
  }
 ],
 "metadata": {
  "kernelspec": {
   "display_name": "Python 3 (ipykernel)",
   "language": "python",
   "name": "python3"
  },
  "language_info": {
   "codemirror_mode": {
    "name": "ipython",
    "version": 3
   },
   "file_extension": ".py",
   "mimetype": "text/x-python",
   "name": "python",
   "nbconvert_exporter": "python",
   "pygments_lexer": "ipython3",
   "version": "3.9.7"
  }
 },
 "nbformat": 4,
 "nbformat_minor": 5
}
