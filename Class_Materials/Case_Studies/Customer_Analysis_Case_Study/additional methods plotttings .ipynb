{
 "cells": [
  {
   "cell_type": "markdown",
   "id": "bdcb798a-4c0f-4a4b-8abc-fa4dfd06c696",
   "metadata": {
    "tags": []
   },
   "source": [
    "#### Random choice - Numpy"
   ]
  },
  {
   "cell_type": "code",
   "execution_count": 6,
   "id": "3455985d-ca0e-44a4-84b3-64bb075499c2",
   "metadata": {},
   "outputs": [],
   "source": [
    "students = ['per1', 'per2', 'per3']"
   ]
  },
  {
   "cell_type": "code",
   "execution_count": 2,
   "id": "041b5b27-c251-440a-92b9-a86ef5d58d9b",
   "metadata": {},
   "outputs": [
    {
     "data": {
      "text/plain": [
       "'per3'"
      ]
     },
     "execution_count": 2,
     "metadata": {},
     "output_type": "execute_result"
    }
   ],
   "source": [
    "import numpy as np\n",
    "import random\n",
    "np.random.choice(students)"
   ]
  },
  {
   "cell_type": "raw",
   "id": "db3e4b2d-45d6-4256-8008-c92c1c50ad6f",
   "metadata": {},
   "source": []
  },
  {
   "cell_type": "code",
   "execution_count": null,
   "id": "a37b4651-d4ea-48d3-8eb5-9573108e6dba",
   "metadata": {},
   "outputs": [],
   "source": []
  },
  {
   "cell_type": "code",
   "execution_count": null,
   "id": "c431d831-01cb-4e7e-8504-afe482e8c7b8",
   "metadata": {},
   "outputs": [],
   "source": [
    "# reset index\n",
    "\n",
    "filename.reset_index(drop=True, inplace=True)"
   ]
  },
  {
   "cell_type": "code",
   "execution_count": null,
   "id": "fe196972-006e-4386-9349-d0f7f519c487",
   "metadata": {},
   "outputs": [],
   "source": []
  },
  {
   "cell_type": "code",
   "execution_count": 4,
   "id": "aa303ae2-2c98-41fe-80dd-fa6fdbfac21c",
   "metadata": {},
   "outputs": [
    {
     "ename": "SyntaxError",
     "evalue": "invalid syntax (2182588108.py, line 4)",
     "output_type": "error",
     "traceback": [
      "\u001b[0;36m  File \u001b[0;32m\"/var/folders/58/4zdn6_kx1rz1scwtmmkg83kr0000gn/T/ipykernel_46620/2182588108.py\"\u001b[0;36m, line \u001b[0;32m4\u001b[0m\n\u001b[0;31m    elif x in ['Femal', 'F']\u001b[0m\n\u001b[0m                            ^\u001b[0m\n\u001b[0;31mSyntaxError\u001b[0m\u001b[0;31m:\u001b[0m invalid syntax\n"
     ]
    }
   ],
   "source": [
    "# clean the text\n",
    "\n",
    "def clean_gender(x):\n",
    "    if x in ['M', 'Male']:\n",
    "        return 'M'\n",
    "    elif x in ['Femal', 'F']\n",
    "        return 'Female'\n",
    "    else: \n",
    "        return NaN\n",
    "    "
   ]
  },
  {
   "cell_type": "code",
   "execution_count": null,
   "id": "a5045105-c8ae-4145-b754-80a9b27b92a7",
   "metadata": {},
   "outputs": [],
   "source": []
  },
  {
   "cell_type": "code",
   "execution_count": 5,
   "id": "2d8f52a5-58c6-4fd3-8f88-ab28a735ceb5",
   "metadata": {},
   "outputs": [
    {
     "ename": "NameError",
     "evalue": "name 'filename' is not defined",
     "output_type": "error",
     "traceback": [
      "\u001b[0;31m---------------------------------------------------------------------------\u001b[0m",
      "\u001b[0;31mNameError\u001b[0m                                 Traceback (most recent call last)",
      "\u001b[0;32m/var/folders/58/4zdn6_kx1rz1scwtmmkg83kr0000gn/T/ipykernel_46620/254496583.py\u001b[0m in \u001b[0;36m<module>\u001b[0;34m\u001b[0m\n\u001b[1;32m      1\u001b[0m \u001b[0;31m# to count the null values in a DataFrame\u001b[0m\u001b[0;34m\u001b[0m\u001b[0;34m\u001b[0m\u001b[0m\n\u001b[1;32m      2\u001b[0m \u001b[0;34m\u001b[0m\u001b[0m\n\u001b[0;32m----> 3\u001b[0;31m \u001b[0mfilename\u001b[0m\u001b[0;34m.\u001b[0m\u001b[0mvalue_counts\u001b[0m\u001b[0;34m(\u001b[0m\u001b[0mdropna\u001b[0m\u001b[0;34m=\u001b[0m\u001b[0;32mFalse\u001b[0m\u001b[0;34m)\u001b[0m\u001b[0;34m\u001b[0m\u001b[0;34m\u001b[0m\u001b[0m\n\u001b[0m",
      "\u001b[0;31mNameError\u001b[0m: name 'filename' is not defined"
     ]
    }
   ],
   "source": [
    "# to count the null values in a DataFrame\n",
    "\n",
    "filename.value_counts(dropna=False)"
   ]
  },
  {
   "cell_type": "code",
   "execution_count": null,
   "id": "50598a07-88c7-41f9-a6d2-64ecc7db11b0",
   "metadata": {},
   "outputs": [],
   "source": []
  }
 ],
 "metadata": {
  "kernelspec": {
   "display_name": "Python 3 (ipykernel)",
   "language": "python",
   "name": "python3"
  },
  "language_info": {
   "codemirror_mode": {
    "name": "ipython",
    "version": 3
   },
   "file_extension": ".py",
   "mimetype": "text/x-python",
   "name": "python",
   "nbconvert_exporter": "python",
   "pygments_lexer": "ipython3",
   "version": "3.9.7"
  }
 },
 "nbformat": 4,
 "nbformat_minor": 5
}
