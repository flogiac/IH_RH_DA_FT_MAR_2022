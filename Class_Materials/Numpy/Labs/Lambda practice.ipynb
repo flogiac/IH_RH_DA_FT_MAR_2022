{
 "cells": [
  {
   "cell_type": "code",
   "execution_count": 105,
   "id": "691c31f0-8e32-464d-8773-fd374dcefe21",
   "metadata": {},
   "outputs": [
    {
     "name": "stdout",
     "output_type": "stream",
     "text": [
      "6\n"
     ]
    }
   ],
   "source": [
    "x = lambda y: y*2\n",
    "print(x(3))"
   ]
  },
  {
   "cell_type": "code",
   "execution_count": 106,
   "id": "5cb9c07b-cece-4ec9-a36a-82e86db0cba1",
   "metadata": {},
   "outputs": [
    {
     "data": {
      "text/plain": [
       "15"
      ]
     },
     "execution_count": 106,
     "metadata": {},
     "output_type": "execute_result"
    }
   ],
   "source": [
    "def multipl(x):\n",
    "    return lambda ciao : ciao * x\n",
    "\n",
    "ciao = multipl(3)\n",
    "ciao(5)"
   ]
  },
  {
   "cell_type": "code",
   "execution_count": 108,
   "id": "e1872ad7-2f33-4cce-92d8-08d96f53bbff",
   "metadata": {},
   "outputs": [
    {
     "name": "stdout",
     "output_type": "stream",
     "text": [
      "12\n"
     ]
    }
   ],
   "source": [
    "x = lambda a, b : a * b\n",
    "print(x(3, 4))"
   ]
  },
  {
   "cell_type": "code",
   "execution_count": null,
   "id": "75c4ffd1-c962-4501-bace-2151fb2f71a5",
   "metadata": {},
   "outputs": [],
   "source": []
  },
  {
   "cell_type": "code",
   "execution_count": null,
   "id": "67d78beb-aa30-4db1-b42a-02ef91b4656d",
   "metadata": {},
   "outputs": [],
   "source": []
  },
  {
   "cell_type": "code",
   "execution_count": 115,
   "id": "ee64b67a-b543-4987-a915-4f5acca69323",
   "metadata": {},
   "outputs": [
    {
     "data": {
      "text/plain": [
       "14"
      ]
     },
     "execution_count": 115,
     "metadata": {},
     "output_type": "execute_result"
    }
   ],
   "source": [
    "def func(hello):\n",
    "    return lambda ciao : ciao + hello\n",
    "ciao = func(6)\n",
    "ciao(8)"
   ]
  },
  {
   "cell_type": "code",
   "execution_count": null,
   "id": "902f52c3-7555-4569-be95-15f9c06cd3ee",
   "metadata": {},
   "outputs": [],
   "source": []
  }
 ],
 "metadata": {
  "kernelspec": {
   "display_name": "Python 3 (ipykernel)",
   "language": "python",
   "name": "python3"
  },
  "language_info": {
   "codemirror_mode": {
    "name": "ipython",
    "version": 3
   },
   "file_extension": ".py",
   "mimetype": "text/x-python",
   "name": "python",
   "nbconvert_exporter": "python",
   "pygments_lexer": "ipython3",
   "version": "3.9.7"
  }
 },
 "nbformat": 4,
 "nbformat_minor": 5
}
