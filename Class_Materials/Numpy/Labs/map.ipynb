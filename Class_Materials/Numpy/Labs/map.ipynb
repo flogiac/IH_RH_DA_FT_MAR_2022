{
 "cells": [
  {
   "cell_type": "code",
   "execution_count": 4,
   "id": "26474929-d661-404a-a630-8ce1c3953b6f",
   "metadata": {},
   "outputs": [],
   "source": [
    "list(map(func...)) works with set, dict etc"
   ]
  },
  {
   "cell_type": "code",
   "execution_count": null,
   "id": "ecdc1452-fcce-4f04-a7ee-8afdde121f88",
   "metadata": {},
   "outputs": [],
   "source": [
    "\n"
   ]
  },
  {
   "cell_type": "code",
   "execution_count": null,
   "id": "54f65632-96a7-4d7e-8c94-f882656bf400",
   "metadata": {},
   "outputs": [],
   "source": []
  }
 ],
 "metadata": {
  "kernelspec": {
   "display_name": "Python 3 (ipykernel)",
   "language": "python",
   "name": "python3"
  },
  "language_info": {
   "codemirror_mode": {
    "name": "ipython",
    "version": 3
   },
   "file_extension": ".py",
   "mimetype": "text/x-python",
   "name": "python",
   "nbconvert_exporter": "python",
   "pygments_lexer": "ipython3",
   "version": "3.9.7"
  }
 },
 "nbformat": 4,
 "nbformat_minor": 5
}
