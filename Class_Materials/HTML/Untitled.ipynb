{
 "cells": [
  {
   "cell_type": "code",
   "execution_count": 1,
   "id": "715bcd6c-e9bd-4be5-aebb-68de09da1429",
   "metadata": {},
   "outputs": [
    {
     "ename": "SyntaxError",
     "evalue": "invalid syntax (1955184466.py, line 1)",
     "output_type": "error",
     "traceback": [
      "\u001b[0;36m  Input \u001b[0;32mIn [3]\u001b[0;36m\u001b[0m\n\u001b[0;31m    first text this is a link\u001b[0m\n\u001b[0m          ^\u001b[0m\n\u001b[0;31mSyntaxError\u001b[0m\u001b[0;31m:\u001b[0m invalid syntax\n"
     ]
    }
   ],
   "source": [
    "<html>\n",
    "    <head><title> page title </title></head>\n",
    "    <body>\n",
    "        <hi>first text </hi> <body>\n",
    "        <a href=\"www.google.com\"><b> this is a link</b></a>\n",
    "</html>"
   ]
  },
  {
   "cell_type": "markdown",
   "id": "25452950-21c0-4487-ac65-1975a26499cf",
   "metadata": {},
   "source": [
    "document\n",
    "element\n",
    "tag \n",
    "attribute\n",
    "class with dot"
   ]
  }
 ],
 "metadata": {
  "kernelspec": {
   "display_name": "Python 3 (ipykernel)",
   "language": "python",
   "name": "python3"
  },
  "language_info": {
   "codemirror_mode": {
    "name": "ipython",
    "version": 3
   },
   "file_extension": ".py",
   "mimetype": "text/x-python",
   "name": "python",
   "nbconvert_exporter": "python",
   "pygments_lexer": "ipython3",
   "version": "3.9.7"
  }
 },
 "nbformat": 4,
 "nbformat_minor": 5
}
