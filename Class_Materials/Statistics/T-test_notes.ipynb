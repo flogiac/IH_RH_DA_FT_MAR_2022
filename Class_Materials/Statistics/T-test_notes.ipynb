{
 "cells": [
  {
   "cell_type": "markdown",
   "id": "c55f8e17-bfcc-4cfd-9bc9-4d9b5f194936",
   "metadata": {},
   "source": [
    "## TWO SAMPLE T-TEST"
   ]
  },
  {
   "cell_type": "markdown",
   "id": "1fd743c1-c5de-4273-8067-8c611124ea0f",
   "metadata": {},
   "source": [
    "- you need only the sample values and not form the population (you need only the sample mean and standard deviation of the samples).\n",
    "- sample size for both populations < 30  to use the t-Student distribution\n"
   ]
  },
  {
   "cell_type": "markdown",
   "id": "ddcf3f41-d056-43c8-98b8-9d53a85f9107",
   "metadata": {},
   "source": [
    "t = (mean(sample1)-mean(sample2))  / root((s1)^2/n1 + (s2)^2/n2)"
   ]
  },
  {
   "cell_type": "markdown",
   "id": "636b2536-3cce-4b37-a797-c05830a0a015",
   "metadata": {},
   "source": [
    "For 2-tails:\n",
    "\n",
    "\n",
    "tc = stats.scipy.t.ppf(1-(0.05/2),df) = ...."
   ]
  },
  {
   "cell_type": "markdown",
   "id": "fe194ae9-1126-4bde-b85d-9840d047be0a",
   "metadata": {},
   "source": []
  },
  {
   "cell_type": "markdown",
   "id": "25c6667e-094f-4481-a92e-0b12db7c6c9c",
   "metadata": {},
   "source": [
    "EXERCISE:\n",
    "\n",
    "Let's generate two populations of students.\n",
    "\n",
    "- Male students with an average speed of 140km/h and standard deviation of 15km/h.\n",
    "\n",
    "- Female students with an average speed of 110km/h and standard deviation of 10km/h.\n",
    "\n",
    "H0: mu_speed_males = mu__speed_females H1: mu_speed_males != mu__speed_females"
   ]
  },
  {
   "cell_type": "code",
   "execution_count": 21,
   "id": "0cc5e7eb-e83f-42ea-b648-357273943aaf",
   "metadata": {},
   "outputs": [],
   "source": [
    "import scipy.stats as stats\n",
    "import numpy as np\n",
    "\n",
    "\n",
    "## create first the 2 populations (size choice = 1000 (big))\n",
    "\n",
    "pop_males = stats.norm.rvs(size=1000,loc=140, scale = 15, random_state = 1)\n",
    "pop_females = stats.norm.rvs(size=1000,loc=110, scale = 10, random_state = 7)"
   ]
  },
  {
   "cell_type": "code",
   "execution_count": 31,
   "id": "24c7245e-706f-4186-aa14-dd6d6392e626",
   "metadata": {},
   "outputs": [],
   "source": [
    "## create second the 2 samples\n",
    "\n",
    "males_sample = np.random.choice(pop_males,size=34, replace=False) \n",
    "females_sample = np.random.choice(pop_females,size=29, replace=False) \n",
    "\n",
    "# replace=False  -->  \n"
   ]
  },
  {
   "cell_type": "code",
   "execution_count": 23,
   "id": "b10b8e05-307a-47dd-855b-872e177a20ed",
   "metadata": {},
   "outputs": [
    {
     "data": {
      "text/plain": [
       "numpy.ndarray"
      ]
     },
     "execution_count": 23,
     "metadata": {},
     "output_type": "execute_result"
    }
   ],
   "source": [
    "type(pop_males)"
   ]
  },
  {
   "cell_type": "code",
   "execution_count": 30,
   "id": "d3f9059a-16e7-45d8-9efd-a2ee944f0c62",
   "metadata": {},
   "outputs": [
    {
     "name": "stdout",
     "output_type": "stream",
     "text": [
      "The sample mean of males is: 141.16\n",
      "The sample mean of females is: 111.71\n"
     ]
    }
   ],
   "source": [
    "\n",
    "\n",
    "mean_males = np.mean(males_sample)# use np.mean()\n",
    "mean_females = np.mean(females_sample)# use np.mean()\n",
    "\n",
    "print(\"The sample mean of males is: {:.2f}\".format(mean_males))\n",
    "print(\"The sample mean of females is: {:.2f}\".format(mean_females))"
   ]
  },
  {
   "cell_type": "code",
   "execution_count": 25,
   "id": "ccbe3976-ad39-48a0-b4f9-d95e5c87e030",
   "metadata": {},
   "outputs": [
    {
     "name": "stdout",
     "output_type": "stream",
     "text": [
      "The sample standard deviation of males is: 14.66\n",
      "The sample standard deviation of females is: 9.68\n"
     ]
    }
   ],
   "source": [
    "std_males = np.std(males_sample)\n",
    "std_females = np.std(females_sample)\n",
    "\n",
    "print(\"The sample standard deviation of males is: {:.2f}\".format(std_males))\n",
    "print(\"The sample standard deviation of females is: {:.2f}\".format(std_females))"
   ]
  },
  {
   "cell_type": "code",
   "execution_count": 26,
   "id": "aa845f02-5abe-44e7-bd3f-6ed1c2725757",
   "metadata": {},
   "outputs": [
    {
     "name": "stdout",
     "output_type": "stream",
     "text": [
      "Our t statistic is: 10.50\n"
     ]
    }
   ],
   "source": [
    "t = ( mean_males - mean_females ) / np.sqrt( ((std_males**2)/34) + ((std_females**2)/29 ) )\n",
    "\n",
    "print(\"Our t statistic is: {:.2f}\".format(t))"
   ]
  },
  {
   "cell_type": "code",
   "execution_count": 27,
   "id": "2c592a2d-0c71-4340-b343-a2821cbf76a8",
   "metadata": {},
   "outputs": [
    {
     "name": "stdout",
     "output_type": "stream",
     "text": [
      "The tc critical value is: 2.05\n"
     ]
    }
   ],
   "source": [
    "tc = stats.t.ppf(1-(0.05/2),df=28) \n",
    "\n",
    "print(\"The tc critical value is: {:.2f}\".format(tc))"
   ]
  },
  {
   "cell_type": "code",
   "execution_count": null,
   "id": "1c049cca-177c-4d86-9ebe-1f0ebe64cba4",
   "metadata": {},
   "outputs": [],
   "source": []
  },
  {
   "cell_type": "markdown",
   "id": "c2493c43-055e-467e-932e-8fd8f9062cb0",
   "metadata": {},
   "source": [
    "## visual graphic of the distribution and the t and tc values"
   ]
  },
  {
   "cell_type": "code",
   "execution_count": 28,
   "id": "c107d63e-a78d-458e-ad54-c6f224ca8f9b",
   "metadata": {},
   "outputs": [
    {
     "data": {
      "image/png": "[encoded data removed]",
      "text/plain": [
       "<Figure size 432x288 with 1 Axes>"
      ]
     },
     "metadata": {
      "needs_background": "light"
     },
     "output_type": "display_data"
    }
   ],
   "source": [
    "\n",
    "\n",
    "import matplotlib.pyplot as plt\n",
    "import numpy as np\n",
    "import scipy.stats as stats\n",
    "import math\n",
    "\n",
    "%matplotlib inline\n",
    "\n",
    "def visual_test(statistic, critical, dist = 'Norm', df = 0):\n",
    "    '''\n",
    "    Function to plot the normal or the t-student distribution \n",
    "    showing the location of the critical values and the statistic location.\n",
    "    Inputs:\n",
    "        statistic -> user's statistic\n",
    "        critical  -> critical value\n",
    "    Parameter:\n",
    "        dist -> distribution to use\n",
    "        df   -> degrees of freedom\n",
    "    Outputs:\n",
    "        Plots the corresponding distribution showin the user statistic location and the critical value.\n",
    "    '''\n",
    "\n",
    "    mu = 0\n",
    "    sigma = 1\n",
    "\n",
    "    x = np.linspace(mu - 4*sigma, mu + 4*sigma, 100)\n",
    "    x0 = np.linspace(mu - 4*sigma, mu + 4*sigma, 100)\n",
    "\n",
    "    if ( dist == 'Norm' ):\n",
    "        plt.plot(x, stats.norm.pdf(x, mu, sigma))\n",
    "        plt.fill_between(x0,stats.norm.pdf(x, mu, sigma),where = (x < -critical),facecolor='red')\n",
    "        plt.fill_between(x0,stats.norm.pdf(x, mu, sigma),where = (x > critical),facecolor='red')\n",
    "    else:\n",
    "        if ( df == 0 ):\n",
    "            while ( df == 0 or type(df) != int):\n",
    "                try:\n",
    "                    df = int(input(\"Set the correct value of degrees of freedom please: \" )) \n",
    "                except:\n",
    "                    df = 0       \n",
    "        plt.plot(x, stats.t.pdf(x,df))\n",
    "        plt.fill_between(x0,stats.t.pdf(x,df),where = (x < -critical),facecolor='red')\n",
    "        plt.fill_between(x0,stats.t.pdf(x,df),where = (x > critical),facecolor='red')\n",
    "\n",
    "    plt.axvline(-critical, c = 'r')\n",
    "    plt.axvline(critical, c = 'r')\n",
    "    plt.axvline(-statistic,c='b')\n",
    "    plt.axvline(statistic,c='b')\n",
    "\n",
    "    plt.show()\n",
    "\n",
    "visual_test(t,tc,dist = 't',df=28)"
   ]
  },
  {
   "cell_type": "markdown",
   "id": "afb5f404-0f65-4caa-92b5-3904330b7c77",
   "metadata": {},
   "source": [
    "### t statistic value: x value on the blue line \n",
    "### tc critical value: x value on the red line"
   ]
  },
  {
   "cell_type": "code",
   "execution_count": null,
   "id": "ea2f0f7f-b6f8-42ed-84e2-a88f45184b5f",
   "metadata": {},
   "outputs": [],
   "source": []
  }
 ],
 "metadata": {
  "kernelspec": {
   "display_name": "Python 3 (ipykernel)",
   "language": "python",
   "name": "python3"
  },
  "language_info": {
   "codemirror_mode": {
    "name": "ipython",
    "version": 3
   },
   "file_extension": ".py",
   "mimetype": "text/x-python",
   "name": "python",
   "nbconvert_exporter": "python",
   "pygments_lexer": "ipython3",
   "version": "3.9.7"
  }
 },
 "nbformat": 4,
 "nbformat_minor": 5
}
