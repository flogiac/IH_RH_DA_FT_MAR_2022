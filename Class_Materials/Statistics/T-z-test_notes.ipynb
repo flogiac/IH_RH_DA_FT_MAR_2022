{
 "cells": [
  {
   "cell_type": "markdown",
   "id": "006c31d3-bb7a-4b8c-8c66-85f3296e87bd",
   "metadata": {},
   "source": [
    "THE CENTRAL LIMIT THEOREM\n",
    "\n",
    "We know that according to this theorem, the the sampling distribution follows a normal distribution centered around the population mean ( regardless of the original population distribution)\n",
    "\n",
    "Therefore, if we subtract the mean of our sample from the population mean, the resulting values will follow a normal distribution centered on 0. ( If we subtract two random variables which follow a normal distribution, the resulting value follows a normal distribution )\n",
    "\n",
    "If we divide the previous values by the standard error of the mean, then the resulting distribution will be a normal distribution with mean = 0 and standard deviation = 1\n",
    "\n",
    "\n",
    "\n",
    "\n",
    "-----> if you do the distribution of the mean of samples grouped you always get the normal distribution with the mean equal to the mean of all the means."
   ]
  },
  {
   "cell_type": "markdown",
   "id": "c5b2fd31-17b3-4432-9203-4ef0de4c51c5",
   "metadata": {},
   "source": [
    "\n",
    "the normal distribution (N) has always the stardard deviation = 0 and the variance = 1.\n",
    "\n",
    "\n",
    "N(0,1)."
   ]
  },
  {
   "cell_type": "code",
   "execution_count": null,
   "id": "375a7cd2-4327-4888-9105-c48225eea5dd",
   "metadata": {},
   "outputs": [],
   "source": []
  },
  {
   "cell_type": "markdown",
   "id": "ed2338fd-0e49-4b87-bfa5-fe043ea1bca4",
   "metadata": {},
   "source": [
    "PDF = probability distribution fucntion; it is for continuos variables \n",
    "... = is for discreate data\n",
    "(check presentataion in week 2).\n",
    "\n"
   ]
  },
  {
   "cell_type": "markdown",
   "id": "e104e874-36d4-4bdb-b5ed-441b532db1d2",
   "metadata": {},
   "source": []
  },
  {
   "cell_type": "markdown",
   "id": "d2122008-786a-4247-8cfe-da86ee10bd44",
   "metadata": {},
   "source": [
    "### cumulative distribution function"
   ]
  },
  {
   "cell_type": "markdown",
   "id": "4c2b697c-3343-4f5f-a017-7ed1505218d5",
   "metadata": {},
   "source": []
  },
  {
   "cell_type": "markdown",
   "id": "df9c5a1c-9d6e-4df9-9fec-6b6da0e1ddf7",
   "metadata": {},
   "source": [
    "\n",
    "\n",
    " ### Probability Density Function.\n",
    " \n",
    "COMPUTING PROBABILITIES FOR THE NORMAL\n",
    "\n",
    "\n",
    "here you can take the values of the z-score depending on the % area under the gaussian curve: \n",
    "\n",
    "(great link)\n",
    "https://www.mathsisfun.com/data/standard-normal-distribution-table.html\n",
    "(also presentation of week4 day4).\n",
    "\n",
    "below there is also the tabale with the z values in relation with the & of the confidential area, that mean you get the critical value."
   ]
  },
  {
   "cell_type": "markdown",
   "id": "45258fe8-01eb-479e-b92d-f0ac5f3a2cf6",
   "metadata": {},
   "source": []
  },
  {
   "cell_type": "markdown",
   "id": "0b42ee11-88d0-44db-ba7b-b3fd9ca95261",
   "metadata": {},
   "source": [
    "NOTEs: the tails (the 2 extremities dx and sx) of the gaussian distribution curve are considered as 'rejection' zones and are usually after a critical value (that represent the confident level of considering probable or not the values).\n",
    "\n",
    "confident level (or critical area): percentage of the area. It is usually 5% area on the gaussiana tails.\n",
    "\n",
    "\n",
    "critical values: value on the gaussian curve that the discriminate where the confident level start. For calculating the critical value you take it from the table here below https://www.mathsisfun.com/data/standard-normal-distribution-table.html  or on python."
   ]
  },
  {
   "cell_type": "markdown",
   "id": "b0fc8a96-6931-45dd-b288-2b08217b7946",
   "metadata": {},
   "source": [
    "## One-Tail and Two-tails tests: \n",
    "one tail when you considern only one part of the gaussian curve (one condition to compare with the WT).\n",
    "\n",
    "two tails when you considern 2 parts of the gaussian curve (two conditions to compare with the WT).\n",
    "\n",
    "(see presentation statistic_hypotesis (week4 day4).\n",
    "\n",
    "note: if you take the data for doing a 1-tail test and add a condition you do the 2-tails test and it would change only the critical value because change the confidential area but doesn't change the z-value.\n"
   ]
  },
  {
   "cell_type": "markdown",
   "id": "57947009-05dd-43bd-a056-cdcded741cd5",
   "metadata": {},
   "source": [
    "one-tail test:\n",
    "\n",
    "\n",
    "tc = +- scipy.stats.t.ppf(0.95, df=24)\n",
    "\n",
    "__\n",
    "\n",
    "teo-tails test:\n",
    "\n",
    "tc = +-scipy.stats.t.ppf(1-(0.05/2)=0.975,df=24)\n"
   ]
  },
  {
   "cell_type": "markdown",
   "id": "c4ec2100-baa7-4c41-b599-9c3eaba63140",
   "metadata": {},
   "source": []
  },
  {
   "cell_type": "markdown",
   "id": "5764c23c-63fa-43ee-8ca2-875f27d240c6",
   "metadata": {},
   "source": []
  },
  {
   "cell_type": "markdown",
   "id": "b67f0768-ebfc-4c9d-97a9-3fb9664d0650",
   "metadata": {},
   "source": [
    "### note:\n",
    "if the population is less than 30, don't apply z-test because you dont' get the population staandar deviation.\n",
    "in this case you do the t-test."
   ]
  },
  {
   "cell_type": "markdown",
   "id": "2a3a7552-ad25-47b4-b35b-98df229399e3",
   "metadata": {},
   "source": [
    "### P-Values\n",
    "indicates the probability that my samples are in the confidential area (rejection, 5% tails) or not."
   ]
  },
  {
   "cell_type": "markdown",
   "id": "d3604eaf-9904-4d77-ba71-6a65ff34b1ac",
   "metadata": {},
   "source": []
  }
 ],
 "metadata": {
  "kernelspec": {
   "display_name": "Python 3 (ipykernel)",
   "language": "python",
   "name": "python3"
  },
  "language_info": {
   "codemirror_mode": {
    "name": "ipython",
    "version": 3
   },
   "file_extension": ".py",
   "mimetype": "text/x-python",
   "name": "python",
   "nbconvert_exporter": "python",
   "pygments_lexer": "ipython3",
   "version": "3.9.7"
  }
 },
 "nbformat": 4,
 "nbformat_minor": 5
}
